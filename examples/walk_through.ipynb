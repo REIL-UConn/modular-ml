{
 "cells": [
  {
   "cell_type": "code",
   "execution_count": 1,
   "id": "026f1edb",
   "metadata": {},
   "outputs": [],
   "source": [
    "from pathlib import Path\n",
    "import pickle\n",
    "import pandas as pd\n",
    "import numpy as np\n",
    "\n",
    "\n",
    "import modularml as mml\n",
    "from modularml.core.data_structures.feature_set import FeatureSet\n",
    "\n",
    "file_to_some_data = Path(\"/Users/bnowacki/Documents/Git Repositories/fine-tuning-for-rapid-soh-estimation/processed_data/UConn-ILCC-NMC/data_slowpulse_1.pkl\") "
   ]
  },
  {
   "cell_type": "markdown",
   "id": "d27af770",
   "metadata": {},
   "source": [
    "# Getting Started\n",
    "\n",
    "Constructing a full ModularML pipeline can be divided in to the following sub-tasks:\n",
    "1. Defining FeatureSets\n",
    "2. Constructing a ModelGraph\n",
    "3. Creating the TrainingPhases\n",
    "4. Running\n",
    "\n",
    "\n",
    "\n",
    "This notebook provides an exmaple workflow for constructing a ML model to estimate battery state of health (SOH) using voltage-based features across a wide variety of aging conditions and state of charge (SOC). \n"
   ]
  },
  {
   "cell_type": "markdown",
   "id": "cc409e57",
   "metadata": {},
   "source": [
    "---\n",
    "### 1 - Defining FeatureSets\n",
    "---\n",
    "\n",
    "The first step in creating a ModularML experiment is to outline the data structures. We need to decide on: \n",
    "* the data source to be used (your raw or preprocessed data),\n",
    "* how the data should be structured into features, targets, and tags for modeling, and\n",
    "* how the set of features should be split for different training stages (e.g., 'training', 'validation', 'testing')\n",
    "\n",
    "Let's import the some example data. Here, we use a set of preprocessed battery aging data from our paper $\\textcolor{red}{\\text{ADD PAPER REFERENCE}}$. It contains short-duration (100-second) pulses applied to a battery over a long-term aging routine. More details can be found in the paper."
   ]
  },
  {
   "cell_type": "code",
   "execution_count": 2,
   "id": "5542b646",
   "metadata": {},
   "outputs": [
    {
     "name": "stdout",
     "output_type": "stream",
     "text": [
      "(24048,) (24048,) (24048, 101) (24048,)\n"
     ]
    },
    {
     "name": "stderr",
     "output_type": "stream",
     "text": [
      "/var/folders/21/fsx4ddjs3fg2wgpl7_ksh0k00000gn/T/ipykernel_31418/427024724.py:2: DeprecationWarning: numpy.core.numeric is deprecated and has been renamed to numpy._core.numeric. The numpy._core namespace contains private NumPy internals and its use is discouraged, as NumPy internals can change without warning in any release. In practice, most real-world usage of numpy.core is to access functionality in the public NumPy API. If that is the case, use the public NumPy API. If not, you are using NumPy internals. If you would still like to access an internal attribute, use numpy._core.numeric._frombuffer.\n",
      "  data = pickle.load(open(file_to_some_data, 'rb'))\n"
     ]
    },
    {
     "data": {
      "text/plain": [
       "dict_keys(['cell_id', 'group_id', 'rpt', 'num_cycles', 'soc', 'soc - coulomb', 'pulse_type', 'voltage', 'q_dchg', 'soh', 'dcir_chg_10', 'dcir_dchg_10', 'dcir_chg_20', 'dcir_dchg_20', 'dcir_chg_30', 'dcir_dchg_30', 'dcir_chg_40', 'dcir_dchg_40', 'dcir_chg_50', 'dcir_dchg_50', 'dcir_chg_60', 'dcir_dchg_60', 'dcir_chg_70', 'dcir_dchg_70', 'dcir_chg_80', 'dcir_dchg_80', 'dcir_chg_90', 'dcir_dchg_90'])"
      ]
     },
     "execution_count": 2,
     "metadata": {},
     "output_type": "execute_result"
    }
   ],
   "source": [
    "# Loading our data\n",
    "data = pickle.load(open(file_to_some_data, 'rb'))\n",
    "print(data['cell_id'].shape, data['group_id'].shape, data['voltage'].shape, data['soh'].shape)\n",
    "data.keys()"
   ]
  },
  {
   "cell_type": "markdown",
   "id": "a35796cd",
   "metadata": {},
   "source": [
    "Here we see our initial data is structured a single dictionary. \n",
    "The FeatureSet class provides several constructors, including a `FeatureSet.from_dict` that we will use here.\n",
    "We will need to decide on the dictionary keys that consitute our the features, targets, and tags to be used in the downstream modeling.\n",
    "\n",
    "In this example, we will use `voltage` as our modeling input feature. Each `voltage` element is a 100-element vector of time-series voltage readings. Our target will be the `soh` (state-of-health) associated to each feature. To maintain sample traceability, and give us future options in how we split the data, we will retain several identifying tags with each sample. These include `cell_id`, `group_id`, `pulse_type`, and `pulse_soc`.\n",
    "\n",
    "We see that the structured FeatureSet contains 24048 valid samples."
   ]
  },
  {
   "cell_type": "code",
   "execution_count": 3,
   "id": "368990ac",
   "metadata": {},
   "outputs": [
    {
     "data": {
      "text/plain": [
       "FeatureSet(label='PulseFeatures', n_samples=24048)"
      ]
     },
     "execution_count": 3,
     "metadata": {},
     "output_type": "execute_result"
    }
   ],
   "source": [
    "fs = FeatureSet.from_dict(\n",
    "\tlabel='PulseFeatures',\n",
    "\tdata={\n",
    "\t\t'voltage': data['voltage'],\n",
    "\t\t'soh': data['soh'],\n",
    "\t\t'cell_id': data['cell_id'],\n",
    "  \t\t'group_id': data['group_id'],\n",
    "    \t'pulse_type': data['pulse_type'],\n",
    "     \t'pulse_soc': data['soc'],\n",
    "\t},\n",
    "\tfeature_keys='voltage',\n",
    "\ttarget_keys='soh',\n",
    "\ttag_keys=['cell_id', 'group_id', 'pulse_type', 'pulse_soc']\n",
    ")\n",
    "fs"
   ]
  },
  {
   "cell_type": "markdown",
   "id": "4033cbc1",
   "metadata": {},
   "source": [
    "Now we want to split our full FeatureSet into several subsets. ModularML provides several built-in splitting methods, including:\n",
    "* `FeatureSet.split_random()`: to create splits by assigning random proportions of all samples to each split\n",
    "* `FeatureSet.split_by_condition()`: to assign samples to subsets using any number of explicit conditions.\n",
    "\n",
    "To use a random 50% train, 30% valdation, 20% test split, we could do the following:"
   ]
  },
  {
   "cell_type": "code",
   "execution_count": 4,
   "id": "03b9e2d0",
   "metadata": {},
   "outputs": [
    {
     "data": {
      "text/plain": [
       "[FeatureSubset(label='train', n_samples=12024),\n",
       " FeatureSubset(label='val', n_samples=7214),\n",
       " FeatureSubset(label='test', n_samples=4810)]"
      ]
     },
     "execution_count": 4,
     "metadata": {},
     "output_type": "execute_result"
    }
   ],
   "source": [
    "fs.split_random(ratios={'train': 0.5, 'val':0.3, 'test':0.2})"
   ]
  },
  {
   "cell_type": "markdown",
   "id": "0d79f7de",
   "metadata": {},
   "source": [
    "But to better evaluate how good our SOH-estimation model really is, we'll want to isolate the train and test sets by unique cycling conditions. Therefore, we are testing how well our model can estimate SOH even when applied to unseen cycling conditions. \n",
    "\n",
    "Let's clear those subsets and create a more effective splitting strategy:"
   ]
  },
  {
   "cell_type": "code",
   "execution_count": 5,
   "id": "007ae542",
   "metadata": {},
   "outputs": [
    {
     "data": {
      "text/plain": [
       "dict_keys([])"
      ]
     },
     "execution_count": 5,
     "metadata": {},
     "output_type": "execute_result"
    }
   ],
   "source": [
    "fs.clear_subsets()\n",
    "fs.available_subsets"
   ]
  },
  {
   "cell_type": "markdown",
   "id": "a36dcbd5",
   "metadata": {},
   "source": [
    "The `FeatureSet.available_subset` attribute is useful for double-checking which subsets are available.\n",
    "\n",
    "In our data, unique cycling conditions are indentified by the `group_id` tag (a value between 1 and 11). We can easily double check the available tags information using `FeatureSet.get_all_tags`. This function allows for the returned information to be structured in several way (e.g., a Pandas dataframe, a dictionary, a numpy array, etc). We'll use a dataframe."
   ]
  },
  {
   "cell_type": "code",
   "execution_count": 6,
   "id": "c1b7823c",
   "metadata": {},
   "outputs": [
    {
     "name": "stdout",
     "output_type": "stream",
     "text": [
      "group_id\n",
      "1     2196\n",
      "2     1962\n",
      "3     2898\n",
      "4     1206\n",
      "5     3852\n",
      "6     1890\n",
      "7      954\n",
      "8     4752\n",
      "9      738\n",
      "10    1494\n",
      "11    2106\n",
      "dtype: int64\n"
     ]
    }
   ],
   "source": [
    "df_tags = fs.get_all_tags(format='df')\n",
    "group_counts = df_tags.groupby('group_id').size()\n",
    "print(group_counts)"
   ]
  },
  {
   "cell_type": "markdown",
   "id": "95819f3a",
   "metadata": {},
   "source": [
    "Great, we see that `group_id` tag has 11 unique values. \n",
    "Note that there are a different number of samples in each group (this is due to different cycling condition resulting in faster or slower aging). \n",
    "We will adjust for this sample imbalance later.\n",
    "\n",
    "Back to splitting, we will take 6 cycling groups for training, 3 for validation, and 2 for testing.\n",
    "Let's make a quick helper function to random select the group_ids for each subset."
   ]
  },
  {
   "cell_type": "code",
   "execution_count": 7,
   "id": "c578ec5e",
   "metadata": {},
   "outputs": [
    {
     "name": "stdout",
     "output_type": "stream",
     "text": [
      "Train IDs:  [7 2 6 1 5 8]\n",
      "Val IDs:  [3 9 4]\n",
      "Test IDs:  [11 10]\n"
     ]
    }
   ],
   "source": [
    "def get_group_ids(train_size:int, val_size:int, test_size:int):\n",
    "    group_ids = np.arange(1, 12, 1)\n",
    "    # Shuffle the groups\n",
    "    rng = np.random.default_rng(seed=13)\n",
    "    rng.shuffle(group_ids)\n",
    "    \n",
    "    a, b = train_size, train_size + val_size\n",
    "    return group_ids[:a], group_ids[a:b], group_ids[b:]\n",
    "\n",
    "train_ids, val_ids, test_ids = get_group_ids(train_size=6, val_size=3, test_size=2)\n",
    "print(\"Train IDs: \", train_ids)\n",
    "print(\"Val IDs: \", val_ids)\n",
    "print(\"Test IDs: \", test_ids)"
   ]
  },
  {
   "cell_type": "markdown",
   "id": "7739c81a",
   "metadata": {},
   "source": [
    "To split, we'll use `FeatureSet.split_by_condition` and define the explicit `group_id` values to assign to each subset."
   ]
  },
  {
   "cell_type": "code",
   "execution_count": 8,
   "id": "c7738882",
   "metadata": {},
   "outputs": [
    {
     "data": {
      "text/plain": [
       "{'cell_id': array([ 1,  1,  1, ..., 44, 44, 44]),\n",
       " 'group_id': array([ 1,  1,  1, ..., 11, 11, 11]),\n",
       " 'pulse_type': array(['chg', 'dchg', 'chg', ..., 'dchg', 'chg', 'dchg'], dtype='<U4'),\n",
       " 'pulse_soc': array([10, 10, 20, ..., 80, 90, 90])}"
      ]
     },
     "execution_count": 8,
     "metadata": {},
     "output_type": "execute_result"
    }
   ],
   "source": [
    "fs.get_all_tags()"
   ]
  },
  {
   "cell_type": "code",
   "execution_count": 9,
   "id": "dff601ac",
   "metadata": {},
   "outputs": [
    {
     "data": {
      "text/plain": [
       "[FeatureSubset(label='train', n_samples=15606),\n",
       " FeatureSubset(label='val', n_samples=4842),\n",
       " FeatureSubset(label='test', n_samples=3600)]"
      ]
     },
     "execution_count": 9,
     "metadata": {},
     "output_type": "execute_result"
    }
   ],
   "source": [
    "fs.split_by_condition(\n",
    "\ttrain={'group_id': train_ids},\n",
    "\tval={'group_id': val_ids},\n",
    "\ttest={'group_id': test_ids}\n",
    ")"
   ]
  },
  {
   "cell_type": "markdown",
   "id": "8af4ae88",
   "metadata": {},
   "source": [
    "We can also plot a quick Sankey diagram to view our subsets.\n",
    "This exmaple is fairly straight forward, but ModularML allows for an unlimited number of nested subsets to be created within a single FeatureSet object.\n",
    "In these cases, the Sankey diagram becomes much more useful to visual the flow of samples into subsets. "
   ]
  },
  {
   "cell_type": "code",
   "execution_count": 10,
   "id": "2f21747e",
   "metadata": {},
   "outputs": [
    {
     "data": {
      "application/vnd.plotly.v1+json": {
       "config": {
        "plotlyServerURL": "https://plot.ly"
       },
       "data": [
        {
         "arrangement": "snap",
         "link": {
          "color": "rgba(100,100,200,0.4)",
          "source": [
           0,
           0,
           0
          ],
          "target": [
           2,
           3,
           1
          ],
          "value": [
           15606,
           4842,
           3600
          ]
         },
         "node": {
          "label": [
           "PulseFeatures",
           "test",
           "train",
           "val"
          ],
          "line": {
           "color": "black",
           "width": 0.5
          },
          "pad": 15,
          "thickness": 20
         },
         "type": "sankey"
        }
       ],
       "layout": {
        "font": {
         "size": 12
        },
        "template": {
         "data": {
          "bar": [
           {
            "error_x": {
             "color": "#2a3f5f"
            },
            "error_y": {
             "color": "#2a3f5f"
            },
            "marker": {
             "line": {
              "color": "#E5ECF6",
              "width": 0.5
             },
             "pattern": {
              "fillmode": "overlay",
              "size": 10,
              "solidity": 0.2
             }
            },
            "type": "bar"
           }
          ],
          "barpolar": [
           {
            "marker": {
             "line": {
              "color": "#E5ECF6",
              "width": 0.5
             },
             "pattern": {
              "fillmode": "overlay",
              "size": 10,
              "solidity": 0.2
             }
            },
            "type": "barpolar"
           }
          ],
          "carpet": [
           {
            "aaxis": {
             "endlinecolor": "#2a3f5f",
             "gridcolor": "white",
             "linecolor": "white",
             "minorgridcolor": "white",
             "startlinecolor": "#2a3f5f"
            },
            "baxis": {
             "endlinecolor": "#2a3f5f",
             "gridcolor": "white",
             "linecolor": "white",
             "minorgridcolor": "white",
             "startlinecolor": "#2a3f5f"
            },
            "type": "carpet"
           }
          ],
          "choropleth": [
           {
            "colorbar": {
             "outlinewidth": 0,
             "ticks": ""
            },
            "type": "choropleth"
           }
          ],
          "contour": [
           {
            "colorbar": {
             "outlinewidth": 0,
             "ticks": ""
            },
            "colorscale": [
             [
              0,
              "#0d0887"
             ],
             [
              0.1111111111111111,
              "#46039f"
             ],
             [
              0.2222222222222222,
              "#7201a8"
             ],
             [
              0.3333333333333333,
              "#9c179e"
             ],
             [
              0.4444444444444444,
              "#bd3786"
             ],
             [
              0.5555555555555556,
              "#d8576b"
             ],
             [
              0.6666666666666666,
              "#ed7953"
             ],
             [
              0.7777777777777778,
              "#fb9f3a"
             ],
             [
              0.8888888888888888,
              "#fdca26"
             ],
             [
              1,
              "#f0f921"
             ]
            ],
            "type": "contour"
           }
          ],
          "contourcarpet": [
           {
            "colorbar": {
             "outlinewidth": 0,
             "ticks": ""
            },
            "type": "contourcarpet"
           }
          ],
          "heatmap": [
           {
            "colorbar": {
             "outlinewidth": 0,
             "ticks": ""
            },
            "colorscale": [
             [
              0,
              "#0d0887"
             ],
             [
              0.1111111111111111,
              "#46039f"
             ],
             [
              0.2222222222222222,
              "#7201a8"
             ],
             [
              0.3333333333333333,
              "#9c179e"
             ],
             [
              0.4444444444444444,
              "#bd3786"
             ],
             [
              0.5555555555555556,
              "#d8576b"
             ],
             [
              0.6666666666666666,
              "#ed7953"
             ],
             [
              0.7777777777777778,
              "#fb9f3a"
             ],
             [
              0.8888888888888888,
              "#fdca26"
             ],
             [
              1,
              "#f0f921"
             ]
            ],
            "type": "heatmap"
           }
          ],
          "histogram": [
           {
            "marker": {
             "pattern": {
              "fillmode": "overlay",
              "size": 10,
              "solidity": 0.2
             }
            },
            "type": "histogram"
           }
          ],
          "histogram2d": [
           {
            "colorbar": {
             "outlinewidth": 0,
             "ticks": ""
            },
            "colorscale": [
             [
              0,
              "#0d0887"
             ],
             [
              0.1111111111111111,
              "#46039f"
             ],
             [
              0.2222222222222222,
              "#7201a8"
             ],
             [
              0.3333333333333333,
              "#9c179e"
             ],
             [
              0.4444444444444444,
              "#bd3786"
             ],
             [
              0.5555555555555556,
              "#d8576b"
             ],
             [
              0.6666666666666666,
              "#ed7953"
             ],
             [
              0.7777777777777778,
              "#fb9f3a"
             ],
             [
              0.8888888888888888,
              "#fdca26"
             ],
             [
              1,
              "#f0f921"
             ]
            ],
            "type": "histogram2d"
           }
          ],
          "histogram2dcontour": [
           {
            "colorbar": {
             "outlinewidth": 0,
             "ticks": ""
            },
            "colorscale": [
             [
              0,
              "#0d0887"
             ],
             [
              0.1111111111111111,
              "#46039f"
             ],
             [
              0.2222222222222222,
              "#7201a8"
             ],
             [
              0.3333333333333333,
              "#9c179e"
             ],
             [
              0.4444444444444444,
              "#bd3786"
             ],
             [
              0.5555555555555556,
              "#d8576b"
             ],
             [
              0.6666666666666666,
              "#ed7953"
             ],
             [
              0.7777777777777778,
              "#fb9f3a"
             ],
             [
              0.8888888888888888,
              "#fdca26"
             ],
             [
              1,
              "#f0f921"
             ]
            ],
            "type": "histogram2dcontour"
           }
          ],
          "mesh3d": [
           {
            "colorbar": {
             "outlinewidth": 0,
             "ticks": ""
            },
            "type": "mesh3d"
           }
          ],
          "parcoords": [
           {
            "line": {
             "colorbar": {
              "outlinewidth": 0,
              "ticks": ""
             }
            },
            "type": "parcoords"
           }
          ],
          "pie": [
           {
            "automargin": true,
            "type": "pie"
           }
          ],
          "scatter": [
           {
            "fillpattern": {
             "fillmode": "overlay",
             "size": 10,
             "solidity": 0.2
            },
            "type": "scatter"
           }
          ],
          "scatter3d": [
           {
            "line": {
             "colorbar": {
              "outlinewidth": 0,
              "ticks": ""
             }
            },
            "marker": {
             "colorbar": {
              "outlinewidth": 0,
              "ticks": ""
             }
            },
            "type": "scatter3d"
           }
          ],
          "scattercarpet": [
           {
            "marker": {
             "colorbar": {
              "outlinewidth": 0,
              "ticks": ""
             }
            },
            "type": "scattercarpet"
           }
          ],
          "scattergeo": [
           {
            "marker": {
             "colorbar": {
              "outlinewidth": 0,
              "ticks": ""
             }
            },
            "type": "scattergeo"
           }
          ],
          "scattergl": [
           {
            "marker": {
             "colorbar": {
              "outlinewidth": 0,
              "ticks": ""
             }
            },
            "type": "scattergl"
           }
          ],
          "scattermap": [
           {
            "marker": {
             "colorbar": {
              "outlinewidth": 0,
              "ticks": ""
             }
            },
            "type": "scattermap"
           }
          ],
          "scattermapbox": [
           {
            "marker": {
             "colorbar": {
              "outlinewidth": 0,
              "ticks": ""
             }
            },
            "type": "scattermapbox"
           }
          ],
          "scatterpolar": [
           {
            "marker": {
             "colorbar": {
              "outlinewidth": 0,
              "ticks": ""
             }
            },
            "type": "scatterpolar"
           }
          ],
          "scatterpolargl": [
           {
            "marker": {
             "colorbar": {
              "outlinewidth": 0,
              "ticks": ""
             }
            },
            "type": "scatterpolargl"
           }
          ],
          "scatterternary": [
           {
            "marker": {
             "colorbar": {
              "outlinewidth": 0,
              "ticks": ""
             }
            },
            "type": "scatterternary"
           }
          ],
          "surface": [
           {
            "colorbar": {
             "outlinewidth": 0,
             "ticks": ""
            },
            "colorscale": [
             [
              0,
              "#0d0887"
             ],
             [
              0.1111111111111111,
              "#46039f"
             ],
             [
              0.2222222222222222,
              "#7201a8"
             ],
             [
              0.3333333333333333,
              "#9c179e"
             ],
             [
              0.4444444444444444,
              "#bd3786"
             ],
             [
              0.5555555555555556,
              "#d8576b"
             ],
             [
              0.6666666666666666,
              "#ed7953"
             ],
             [
              0.7777777777777778,
              "#fb9f3a"
             ],
             [
              0.8888888888888888,
              "#fdca26"
             ],
             [
              1,
              "#f0f921"
             ]
            ],
            "type": "surface"
           }
          ],
          "table": [
           {
            "cells": {
             "fill": {
              "color": "#EBF0F8"
             },
             "line": {
              "color": "white"
             }
            },
            "header": {
             "fill": {
              "color": "#C8D4E3"
             },
             "line": {
              "color": "white"
             }
            },
            "type": "table"
           }
          ]
         },
         "layout": {
          "annotationdefaults": {
           "arrowcolor": "#2a3f5f",
           "arrowhead": 0,
           "arrowwidth": 1
          },
          "autotypenumbers": "strict",
          "coloraxis": {
           "colorbar": {
            "outlinewidth": 0,
            "ticks": ""
           }
          },
          "colorscale": {
           "diverging": [
            [
             0,
             "#8e0152"
            ],
            [
             0.1,
             "#c51b7d"
            ],
            [
             0.2,
             "#de77ae"
            ],
            [
             0.3,
             "#f1b6da"
            ],
            [
             0.4,
             "#fde0ef"
            ],
            [
             0.5,
             "#f7f7f7"
            ],
            [
             0.6,
             "#e6f5d0"
            ],
            [
             0.7,
             "#b8e186"
            ],
            [
             0.8,
             "#7fbc41"
            ],
            [
             0.9,
             "#4d9221"
            ],
            [
             1,
             "#276419"
            ]
           ],
           "sequential": [
            [
             0,
             "#0d0887"
            ],
            [
             0.1111111111111111,
             "#46039f"
            ],
            [
             0.2222222222222222,
             "#7201a8"
            ],
            [
             0.3333333333333333,
             "#9c179e"
            ],
            [
             0.4444444444444444,
             "#bd3786"
            ],
            [
             0.5555555555555556,
             "#d8576b"
            ],
            [
             0.6666666666666666,
             "#ed7953"
            ],
            [
             0.7777777777777778,
             "#fb9f3a"
            ],
            [
             0.8888888888888888,
             "#fdca26"
            ],
            [
             1,
             "#f0f921"
            ]
           ],
           "sequentialminus": [
            [
             0,
             "#0d0887"
            ],
            [
             0.1111111111111111,
             "#46039f"
            ],
            [
             0.2222222222222222,
             "#7201a8"
            ],
            [
             0.3333333333333333,
             "#9c179e"
            ],
            [
             0.4444444444444444,
             "#bd3786"
            ],
            [
             0.5555555555555556,
             "#d8576b"
            ],
            [
             0.6666666666666666,
             "#ed7953"
            ],
            [
             0.7777777777777778,
             "#fb9f3a"
            ],
            [
             0.8888888888888888,
             "#fdca26"
            ],
            [
             1,
             "#f0f921"
            ]
           ]
          },
          "colorway": [
           "#636efa",
           "#EF553B",
           "#00cc96",
           "#ab63fa",
           "#FFA15A",
           "#19d3f3",
           "#FF6692",
           "#B6E880",
           "#FF97FF",
           "#FECB52"
          ],
          "font": {
           "color": "#2a3f5f"
          },
          "geo": {
           "bgcolor": "white",
           "lakecolor": "white",
           "landcolor": "#E5ECF6",
           "showlakes": true,
           "showland": true,
           "subunitcolor": "white"
          },
          "hoverlabel": {
           "align": "left"
          },
          "hovermode": "closest",
          "mapbox": {
           "style": "light"
          },
          "paper_bgcolor": "white",
          "plot_bgcolor": "#E5ECF6",
          "polar": {
           "angularaxis": {
            "gridcolor": "white",
            "linecolor": "white",
            "ticks": ""
           },
           "bgcolor": "#E5ECF6",
           "radialaxis": {
            "gridcolor": "white",
            "linecolor": "white",
            "ticks": ""
           }
          },
          "scene": {
           "xaxis": {
            "backgroundcolor": "#E5ECF6",
            "gridcolor": "white",
            "gridwidth": 2,
            "linecolor": "white",
            "showbackground": true,
            "ticks": "",
            "zerolinecolor": "white"
           },
           "yaxis": {
            "backgroundcolor": "#E5ECF6",
            "gridcolor": "white",
            "gridwidth": 2,
            "linecolor": "white",
            "showbackground": true,
            "ticks": "",
            "zerolinecolor": "white"
           },
           "zaxis": {
            "backgroundcolor": "#E5ECF6",
            "gridcolor": "white",
            "gridwidth": 2,
            "linecolor": "white",
            "showbackground": true,
            "ticks": "",
            "zerolinecolor": "white"
           }
          },
          "shapedefaults": {
           "line": {
            "color": "#2a3f5f"
           }
          },
          "ternary": {
           "aaxis": {
            "gridcolor": "white",
            "linecolor": "white",
            "ticks": ""
           },
           "baxis": {
            "gridcolor": "white",
            "linecolor": "white",
            "ticks": ""
           },
           "bgcolor": "#E5ECF6",
           "caxis": {
            "gridcolor": "white",
            "linecolor": "white",
            "ticks": ""
           }
          },
          "title": {
           "x": 0.05
          },
          "xaxis": {
           "automargin": true,
           "gridcolor": "white",
           "linecolor": "white",
           "ticks": "",
           "title": {
            "standoff": 15
           },
           "zerolinecolor": "white",
           "zerolinewidth": 2
          },
          "yaxis": {
           "automargin": true,
           "gridcolor": "white",
           "linecolor": "white",
           "ticks": "",
           "title": {
            "standoff": 15
           },
           "zerolinecolor": "white",
           "zerolinewidth": 2
          }
         }
        },
        "title": {
         "text": "FeatureSet Subset Sankey"
        }
       }
      }
     },
     "metadata": {},
     "output_type": "display_data"
    }
   ],
   "source": [
    "fs.plot_sankey()"
   ]
  },
  {
   "cell_type": "markdown",
   "id": "72749608",
   "metadata": {},
   "source": [
    "# TODO: add tranformer logic/examples\n",
    "\n",
    "$\\textcolor{red}{\\text{We will want to show how to apply a FeatureScaler to our subsets.}}$ \n",
    "$\\textcolor{red}{\\text{The scaler should support different fitting/apply subsets (e.g., fit to the 'train' subset but apply to all subsets.)}}$\n"
   ]
  },
  {
   "cell_type": "code",
   "execution_count": null,
   "id": "d766da39",
   "metadata": {},
   "outputs": [],
   "source": []
  },
  {
   "cell_type": "code",
   "execution_count": null,
   "id": "2aec98bb",
   "metadata": {},
   "outputs": [],
   "source": []
  },
  {
   "cell_type": "markdown",
   "id": "edec6e5f",
   "metadata": {},
   "source": [
    "Now that we have our main FeatureSet and corresponding subsets, let's move on to step 2."
   ]
  },
  {
   "cell_type": "markdown",
   "id": "18885b45",
   "metadata": {},
   "source": [
    "---\n",
    "### 2 - Building a ModelGraph\n",
    "---\n",
    "\n",
    "One of most powerful aspects of ModularML is its directed-acyclic-graph (DAG)-based ModelGraph container.\n",
    "It allows for any number of ModelStages to be linked together into a larger structure.\n",
    "Even better, each ModelStage can have any backend (e.g., PyTorch, Tensorflow/Keras, Scikit-learn).\n",
    "This lets you defined a complex multi-objective evaluation pipeline all under a unified ModelGraph.\n",
    "\n",
    "But let's stop talking and get back to modeling...\n",
    "\n",
    "In this example, we'll create a multi-stage model that uses a CNN encoder to embed the voltage features into some learned latent space and a final MLP estimation to convert the embedded feature into an SOH estimate.\n",
    "\n",
    "ModularML provides pre-built classes for the more commonly used model like sequential CNNs and MLPs. We'll use those here, but any custom model can be easily defined. All you need to do is subclass the `modularml.BaseModel` class and defined the required methods.\n",
    "\n",
    "With complex ModelGraphs, it can get annoying to keep track of input/output shape of each ModelStage.\n",
    "Don't worry, ModularML can infer these for you at runtime.\n",
    "Just leave the input and output shapes as None, and ModularML will handle the rest.\n"
   ]
  },
  {
   "cell_type": "code",
   "execution_count": null,
   "id": "f2735a55",
   "metadata": {},
   "outputs": [
    {
     "ename": "NameError",
     "evalue": "name 'BatchData' is not defined",
     "output_type": "error",
     "traceback": [
      "\u001b[0;31m---------------------------------------------------------------------------\u001b[0m",
      "\u001b[0;31mNameError\u001b[0m                                 Traceback (most recent call last)",
      "Cell \u001b[0;32mIn[10], line 1\u001b[0m\n\u001b[0;32m----> 1\u001b[0m \u001b[38;5;28;01mfrom\u001b[39;00m\u001b[38;5;250m \u001b[39m\u001b[38;5;21;01mmodularml\u001b[39;00m\u001b[38;5;21;01m.\u001b[39;00m\u001b[38;5;21;01mcore\u001b[39;00m\u001b[38;5;21;01m.\u001b[39;00m\u001b[38;5;21;01mmodel_stage\u001b[39;00m\u001b[38;5;250m \u001b[39m\u001b[38;5;28;01mimport\u001b[39;00m ModelStage, StageInput\n\u001b[1;32m      2\u001b[0m \u001b[38;5;28;01mfrom\u001b[39;00m\u001b[38;5;250m \u001b[39m\u001b[38;5;21;01mmodularml\u001b[39;00m\u001b[38;5;21;01m.\u001b[39;00m\u001b[38;5;21;01mcore\u001b[39;00m\u001b[38;5;21;01m.\u001b[39;00m\u001b[38;5;21;01moptimizer\u001b[39;00m\u001b[38;5;250m \u001b[39m\u001b[38;5;28;01mimport\u001b[39;00m Optimizer\n\u001b[1;32m      3\u001b[0m \u001b[38;5;28;01mfrom\u001b[39;00m\u001b[38;5;250m \u001b[39m\u001b[38;5;21;01mmodularml\u001b[39;00m\u001b[38;5;21;01m.\u001b[39;00m\u001b[38;5;21;01mmodels\u001b[39;00m\u001b[38;5;250m \u001b[39m\u001b[38;5;28;01mimport\u001b[39;00m SequentialCNN, SequentialMLP\n",
      "File \u001b[0;32m~/Documents/Git Repositories/REIL-UConn/modular-ml/modularml/core/model_stage.py:48\u001b[0m\n\u001b[1;32m     19\u001b[0m     \u001b[38;5;28;01mfrom\u001b[39;00m\u001b[38;5;250m \u001b[39m\u001b[38;5;21;01mmodularml\u001b[39;00m\u001b[38;5;21;01m.\u001b[39;00m\u001b[38;5;21;01mcore\u001b[39;00m\u001b[38;5;21;01m.\u001b[39;00m\u001b[38;5;21;01mdata_structures\u001b[39;00m\u001b[38;5;21;01m.\u001b[39;00m\u001b[38;5;21;01mfeature_set\u001b[39;00m\u001b[38;5;250m \u001b[39m\u001b[38;5;28;01mimport\u001b[39;00m FeatureSet\n\u001b[1;32m     23\u001b[0m \u001b[38;5;66;03m# @dataclass\u001b[39;00m\n\u001b[1;32m     24\u001b[0m \u001b[38;5;66;03m# class BatchData:\u001b[39;00m\n\u001b[1;32m     25\u001b[0m \u001b[38;5;66;03m#     \"\"\"\u001b[39;00m\n\u001b[0;32m   (...)\u001b[0m\n\u001b[1;32m     43\u001b[0m \u001b[38;5;66;03m#     tags: Optional[Dict[str, Any]] = None\u001b[39;00m\n\u001b[1;32m     44\u001b[0m \u001b[38;5;66;03m#     weights: Optional[Any] = None\u001b[39;00m\n\u001b[0;32m---> 48\u001b[0m \u001b[38;5;28;01mclass\u001b[39;00m\u001b[38;5;250m \u001b[39m\u001b[38;5;21;01mModelStage\u001b[39;00m:\n\u001b[1;32m     49\u001b[0m     \u001b[38;5;28;01mdef\u001b[39;00m\u001b[38;5;250m \u001b[39m\u001b[38;5;21m__init__\u001b[39m(\n\u001b[1;32m     50\u001b[0m         \u001b[38;5;28mself\u001b[39m,\n\u001b[1;32m     51\u001b[0m         model: BaseModel,\n\u001b[0;32m   (...)\u001b[0m\n\u001b[1;32m     55\u001b[0m         loss: Union[AppliedLoss, List[AppliedLoss]] \u001b[38;5;241m=\u001b[39m \u001b[38;5;28;01mNone\u001b[39;00m,\n\u001b[1;32m     56\u001b[0m     ):\n\u001b[1;32m     57\u001b[0m         \u001b[38;5;28mself\u001b[39m\u001b[38;5;241m.\u001b[39mlabel \u001b[38;5;241m=\u001b[39m label\n",
      "File \u001b[0;32m~/Documents/Git Repositories/REIL-UConn/modular-ml/modularml/core/model_stage.py:152\u001b[0m, in \u001b[0;36mModelStage\u001b[0;34m()\u001b[0m\n\u001b[1;32m    146\u001b[0m         \u001b[38;5;66;03m# check that loss roles match sampler roles\u001b[39;00m\n\u001b[1;32m    147\u001b[0m         app_loss\u001b[38;5;241m.\u001b[39mbetween\n\u001b[0;32m--> 152\u001b[0m \u001b[38;5;28;01mdef\u001b[39;00m\u001b[38;5;250m \u001b[39m\u001b[38;5;21m_validate_stage_input\u001b[39m(\u001b[38;5;28mself\u001b[39m, stage_input:Dict[\u001b[38;5;28mstr\u001b[39m, Dict[\u001b[38;5;28mstr\u001b[39m, Any]], batch:\u001b[43mBatchData\u001b[49m):\n\u001b[1;32m    153\u001b[0m \u001b[38;5;250m    \u001b[39m\u001b[38;5;124;03m\"\"\"\u001b[39;00m\n\u001b[1;32m    154\u001b[0m \u001b[38;5;124;03m    Verifies that `stage_input` contains the keys required by `self.input_from` and `batch`.\u001b[39;00m\n\u001b[1;32m    155\u001b[0m \u001b[38;5;124;03m    \"\"\"\u001b[39;00m\n\u001b[1;32m    156\u001b[0m     \u001b[38;5;28;01mif\u001b[39;00m \u001b[38;5;129;01mnot\u001b[39;00m \u001b[38;5;28misinstance\u001b[39m(stage_input, \u001b[38;5;28mdict\u001b[39m):\n",
      "\u001b[0;31mNameError\u001b[0m: name 'BatchData' is not defined"
     ]
    }
   ],
   "source": [
    "from modularml.core.model_stage import ModelStage\n",
    "from modularml.core.optimizer import Optimizer\n",
    "from modularml.models import SequentialCNN, SequentialMLP\n",
    "from modularml.utils.backend import Backend\n",
    "\n",
    "# ms_encoder = ModelStage(\n",
    "# \tmodel=SequentialCNN(n_layers=2, hidden_dim=16, flatten_output=True),\n",
    "# \tname=\"encoder\",\n",
    "# \tinput_from=StageInput(source='VoltageFeatures'),\n",
    "# \tloss=None,\n",
    "# \toptimizer=Optimizer(name='adam', backend=Backend.TORCH)\n",
    "# )\n"
   ]
  },
  {
   "cell_type": "code",
   "execution_count": null,
   "id": "45e6b4e1",
   "metadata": {},
   "outputs": [
    {
     "name": "stderr",
     "output_type": "stream",
     "text": [
      "/Users/bnowacki/Documents/Git Repositories/REIL-UConn/modular-ml/modularml/models/sequential.py:297: UserWarning:\n",
      "\n",
      "No output shape was provided. The shape of (1, `hidden_dim`) will be used.\n",
      "\n"
     ]
    },
    {
     "name": "stdout",
     "output_type": "stream",
     "text": [
      "torch.Size([2, 2, 3])\n",
      "torch.Size([2, 1, 16])\n",
      "torch.Size([2, 3]) (1, 16)\n"
     ]
    }
   ],
   "source": [
    "import torch\n",
    "\n",
    "x = torch.Tensor([[[1,2,3], [1,2,3]], [[1,2,3], [1,2,3]]])\n",
    "out = ms_encoder.model.forward(x)\n",
    "print(x.shape)\n",
    "print(out.shape)\n",
    "print(ms_encoder.model.input_shape, ms_encoder.model.output_shape)"
   ]
  },
  {
   "cell_type": "code",
   "execution_count": null,
   "id": "5c58d4de",
   "metadata": {},
   "outputs": [],
   "source": []
  },
  {
   "cell_type": "code",
   "execution_count": null,
   "id": "534f7f86",
   "metadata": {},
   "outputs": [],
   "source": [
    "\n",
    "# from typing import Tuple\n",
    "# DUMMY_SHAPE : Tuple[int] = (100,1)\n",
    "\n",
    "# ModelStage(\n",
    "# \tmodel=Sequential_CNN(\n",
    "# \t\tinput_shape=(1,100),\n",
    "# \t\toutput_shape=(32,1),\n",
    "# \t\tn_layers=2,\n",
    "# \t\thidden_dim=32,\n",
    "# \t\tflatten_output=True\n",
    "# \t),\n",
    "# \tname='encoder',\n",
    "# \tinput_from=StageInput(source='VoltageFeatures'),\n",
    "# \tloss=None,\n",
    "# \toptimizer=None\n",
    "# )"
   ]
  },
  {
   "cell_type": "code",
   "execution_count": null,
   "id": "551bba06",
   "metadata": {},
   "outputs": [],
   "source": []
  },
  {
   "cell_type": "code",
   "execution_count": null,
   "id": "7c873c9b",
   "metadata": {},
   "outputs": [],
   "source": [
    "# Testing Activation\n",
    "from modularml.core.activation import Activation\n",
    "from modularml.utils.backend import Backend\n",
    "\n",
    "act = Activation(\n",
    "\tname=\"relu\",\n",
    "\tbackend=Backend.TORCH\n",
    ")\n",
    "\n",
    "conf = act.get_config()\n",
    "act2 = Activation.from_config(conf)\n",
    "act2"
   ]
  },
  {
   "cell_type": "code",
   "execution_count": null,
   "id": "2922197d",
   "metadata": {},
   "outputs": [],
   "source": [
    "# Testing Optimizer\n",
    "from modularml.core.optimizer import Optimizer\n",
    "from modularml.utils.backend import Backend\n",
    "\n",
    "opt = Optimizer(\n",
    "\tname='adam',\n",
    " \tbackend=Backend.TORCH\n",
    ")\n",
    "conf = opt.get_config()\n",
    "opt2 = Optimizer.from_config(conf)\n",
    "opt2"
   ]
  },
  {
   "cell_type": "code",
   "execution_count": null,
   "id": "f6490881",
   "metadata": {},
   "outputs": [],
   "source": [
    "from modularml.core.loss import AppliedLoss, Loss\n",
    "loss = AppliedLoss(\n",
    "\tloss=Loss(name='mse', backend=Backend.TORCH),\n",
    "\tbetween='target',\n",
    "\tsample_key='anchor',\n",
    "\tlabel='my_mse_loss'\n",
    ")\n",
    "loss"
   ]
  },
  {
   "cell_type": "code",
   "execution_count": null,
   "id": "9e683d25",
   "metadata": {},
   "outputs": [],
   "source": [
    "from modularml.core.model_stage import ModelStage, StageInput"
   ]
  },
  {
   "cell_type": "code",
   "execution_count": null,
   "id": "1b2c1862",
   "metadata": {},
   "outputs": [],
   "source": [
    "stage = ModelStage(\n",
    "\tmodel=model,\n",
    " \tname=\"stageA\",\n",
    "  \tinput_from=StageInput(source='my_feature'),\n",
    "   \tloss=[loss, loss, loss, loss],\n",
    "    optimizer=opt\n",
    ")\n",
    "\n",
    "stage.visualize()"
   ]
  },
  {
   "cell_type": "code",
   "execution_count": null,
   "id": "66d93e77",
   "metadata": {},
   "outputs": [],
   "source": []
  }
 ],
 "metadata": {
  "kernelspec": {
   "display_name": "envModularML",
   "language": "python",
   "name": "python3"
  },
  "language_info": {
   "codemirror_mode": {
    "name": "ipython",
    "version": 3
   },
   "file_extension": ".py",
   "mimetype": "text/x-python",
   "name": "python",
   "nbconvert_exporter": "python",
   "pygments_lexer": "ipython3",
   "version": "3.10.13"
  }
 },
 "nbformat": 4,
 "nbformat_minor": 5
}
