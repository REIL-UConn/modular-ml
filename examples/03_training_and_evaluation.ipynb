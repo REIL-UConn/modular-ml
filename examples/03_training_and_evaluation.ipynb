{
 "cells": [
  {
   "cell_type": "markdown",
   "id": "d7fa9f84",
   "metadata": {},
   "source": [
    "---\n",
    "# 03_training_and_evaluation.ipynb\n",
    "---"
   ]
  },
  {
   "cell_type": "markdown",
   "id": "91952ca8",
   "metadata": {},
   "source": [
    "This notebook provides a complete end-to-end example of how to train and evaluate a model using the `ModularML` framework. It demonstrates how to:\n",
    "\n",
    "1. Define a `ModelGraph` with one or more trainable model stages\n",
    "2. Wrap training logic in a `TrainingPhase`\n",
    "3. Run training using the `Experiment` container\n",
    "4. Evaluate the trained model using `EvaluationPhase`\n",
    "5. Visualize predictions against ground truth\n",
    "\n",
    "We use a simple example in which a fully connected MLP regressor is trained to estimate target values from pulse charge features of a battery dataset."
   ]
  },
  {
   "cell_type": "markdown",
   "id": "86108012",
   "metadata": {},
   "source": [
    "We will be utilizing the FeatureSet and ModelStages created in the prior two notebooks. \n",
    "If you haven't already, please go through the following examples:\n",
    "* [01_featureset_basics.ipynb](./01_featureset_basics.ipynb)\n",
    "* [02_modelgraph_basics.ipynb](./02_modelgraph_basics.ipynb)\n",
    "\n",
    "\n",
    "Let's reload the pre-processed FeatureSet and ModelStages.\n"
   ]
  },
  {
   "cell_type": "code",
   "execution_count": 1,
   "id": "700b9407",
   "metadata": {},
   "outputs": [
    {
     "data": {
      "text/plain": [
       "FeatureSet(label='ChargePulseFeatures', n_samples=12024)"
      ]
     },
     "execution_count": 1,
     "metadata": {},
     "output_type": "execute_result"
    }
   ],
   "source": [
    "from modularml.core import FeatureSet, ModelStage, ModelGraph, Optimizer\n",
    "from modularml.models import SequentialCNN, SequentialMLP\n",
    "import modularml as mml\n",
    "\n",
    "from pathlib import Path\n",
    "\n",
    "FILE_FEATURE_SET = Path(\"downloaded_data/charge_samples.joblib\")\n",
    "charge_samples = FeatureSet.load(FILE_FEATURE_SET)\n",
    "charge_samples"
   ]
  },
  {
   "cell_type": "markdown",
   "id": "2feb5b98",
   "metadata": {},
   "source": [
    "We will start this example with a simple 3-layer MLP model.\n",
    "It pulls features from the 'ChargePulseFeatures' FeatureSet.\n",
    "\n",
    "We can confirm the target output size with `FeatureSet.target_shape`"
   ]
  },
  {
   "cell_type": "code",
   "execution_count": 2,
   "id": "2a4256a0",
   "metadata": {},
   "outputs": [
    {
     "name": "stdout",
     "output_type": "stream",
     "text": [
      "(1, 1)\n"
     ]
    }
   ],
   "source": [
    "print(charge_samples.target_shape)\n",
    "\n",
    "ms_regressor = ModelStage(\n",
    "    model=SequentialMLP(output_shape=(1, 1), n_layers=3, hidden_dim=16),\n",
    "    label='Regressor',\n",
    "    inputs='ChargePulseFeatures',  \t\t# Input from feature set\n",
    "    optimizer=Optimizer(name='adam', backend=mml.Backend.TORCH)\n",
    ")"
   ]
  },
  {
   "cell_type": "markdown",
   "id": "bfd36fb2",
   "metadata": {},
   "source": [
    "The ModelGraph is constructed via a list of ModelStages and FeatureSets.\n",
    "\n",
    "Calling `build_all` ensure all ModelStages instantiate their underlying NN components, and infer any missing input/output shapes. "
   ]
  },
  {
   "cell_type": "code",
   "execution_count": 3,
   "id": "2207c695",
   "metadata": {},
   "outputs": [
    {
     "name": "stdout",
     "output_type": "stream",
     "text": [
      "Inferred shapes for `Regressor`:  (1, 101) -> (1, 1)\n"
     ]
    },
    {
     "data": {
      "text/plain": [
       "(<Figure size 600x300 with 1 Axes>, <Axes: >)"
      ]
     },
     "execution_count": 3,
     "metadata": {},
     "output_type": "execute_result"
    },
    {
     "data": {
      "image/png": "[encoded data removed]",
      "text/plain": [
       "<Figure size 600x300 with 1 Axes>"
      ]
     },
     "metadata": {},
     "output_type": "display_data"
    }
   ],
   "source": [
    "mg = ModelGraph(nodes=[charge_samples, ms_regressor])\n",
    "mg.build_all()\n",
    "mg.visualize()"
   ]
  },
  {
   "cell_type": "markdown",
   "id": "2783675c",
   "metadata": {},
   "source": [
    "Now that the `ModelGraph` is built, we are ready to move on to the core ModularML training logic and central `Experiment` container."
   ]
  },
  {
   "cell_type": "markdown",
   "id": "ea98a297",
   "metadata": {},
   "source": [
    "## Define a Training Phase\n",
    "\n",
    "Training in ModularML is handled through a `TrainingPhase`. It is a declarative container that defines how to train the ModelGraph.\n",
    "\n",
    "If has the following initiallization arguments:\n",
    "* `label`: a name (str) to assigned to this training phase for logging (e.g., \"pretrain_encoder\").\n",
    "* `losses`: a list of `AppliedLoss` objects\n",
    "* `samplers`: a mapping of `FeatureSampler`s to FeatureSets in ModelGraph.\n",
    "* `batch_size`: the batch size to use across all batches in a single training phase.\n",
    "* `n_epochs`: the number of training epochs.\n",
    "\n"
   ]
  },
  {
   "cell_type": "markdown",
   "id": "bc9531ec",
   "metadata": {},
   "source": [
    "Let's start with the `AppliedLoss` class.\n",
    "It defines the loss function and how it should be applied to the ModelGraph.\n",
    "\n",
    "For example, let's assume we are using a TripletSampler, which produces 'anchor', 'positive', and 'negative' sample pairs.\n",
    "We would have a corresponding TripletLoss that takes in the ModelStage outputs for each of these sample roles. \n",
    "\n",
    "``` python\n",
    "def triplet_loss(anchor, positive, negative): ...\n",
    "```\n",
    "\n",
    "To apply this triplet_loss to a ModelStage's output (assume it's called 'encoder'), we would define an AppliedLoss where the `inputs` argument maps the loss function keyword arguments to the available samples and roles.\n",
    "\n",
    "\n",
    "``` python\n",
    "ap = AppliedLoss(\n",
    "\tlabel='my_triplet_loss',\n",
    "\tloss=Loss(loss_function=triplet_loss),\n",
    "\tinputs={\n",
    "\t\t'anchor': \"ChargePulseFeatures.features.anchor\",\n",
    "\t\t'positive': \"ChargePulseFeatures.features.negative\",\n",
    "\t\t'negative': \"ChargePulseFeatures.features.positive\",\n",
    "\t}\n",
    ")\n",
    "```\n",
    "\n",
    "The `inputs` key-value following the following schema: \n",
    "* the key must be a keyword argument of the loss_function. If the loss function only accepts positional arguments, keys can take the form of integers or string equivalents (e.g., `{\"0\": ..., }` or `{0: ..., }`)\n",
    "* the value is a period (.)-parsed string with the following pattern: `'node.attribute.role'`:\n",
    "  * `node` is the label of a FeatureSet or ModelStage contained in ModelGraph\n",
    "  * `attribute` is one of the following: ['features',  'targets', 'output']\n",
    "    * 'features' and 'targets' only apply if `node` is a FeatureSet\n",
    "    * 'output' is used if `node` is a ModelStage\n",
    "  * `role` is a sample key defined by the FeatureSampler used. E.g, a TripletSampler creates 'anchor', 'positive', and 'negative' roles. A simple FeatureSampler has only a 'default' role. If `role` is ommited (e.g., `'node.attribute'`), then the role is assumed to be 'default'."
   ]
  },
  {
   "cell_type": "markdown",
   "id": "e0c06add",
   "metadata": {},
   "source": [
    "For our first example, we only have a single MLP ModelStage where our task is estimating battery state-of-health. \n",
    "\n",
    "We will start with only a single mean-squared-error loss function applied to the regressor outputs.\n",
    "Common loss functions are easily accessible using the `name` and `backend` attribute of the `Loss` class.\n",
    "See the documentation for a more detailed description on available losses."
   ]
  },
  {
   "cell_type": "code",
   "execution_count": 4,
   "id": "b5a7c853",
   "metadata": {},
   "outputs": [],
   "source": [
    "from modularml.core import AppliedLoss, Loss\n",
    "\n",
    "mse_loss = AppliedLoss(\n",
    "    label='MyAppliedLoss',\n",
    "\tloss=Loss(name='mse', backend=mml.Backend.TORCH),\n",
    "\tinputs={\t\t# The PyTorch MSELoss only accept positional arguments\n",
    "\t\t\"0\": \"ChargePulseFeatures.targets\",\n",
    "\t\t\"1\": \"Regressor.output\"\n",
    "\t},\n",
    ")"
   ]
  },
  {
   "cell_type": "markdown",
   "id": "0c336156",
   "metadata": {},
   "source": [
    "The next set of `TrainingPhase` attributes define the sampling configuration.\n",
    "\n",
    "Since we only have one FeatureSet (`\"ChargePulseFeatures\"`) in our ModelGraph, we only need to create one FeatureSampler.\n",
    "Our `mse_loss` only need a single sample role (\"default\"), so we can stick with just a simple FeatureSampler."
   ]
  },
  {
   "cell_type": "code",
   "execution_count": 5,
   "id": "6e013c37",
   "metadata": {},
   "outputs": [],
   "source": [
    "from modularml.core import FeatureSampler\n",
    "\n",
    "sampler = FeatureSampler(\n",
    "\tshuffle=True,\n",
    "\tstratify_by=[\"pulse_soc\"],\n",
    " \tseed=13\n",
    ")"
   ]
  },
  {
   "cell_type": "markdown",
   "id": "16434b48",
   "metadata": {},
   "source": [
    "The base `FeatureSampler` support grouping and stratification via the `group_by` and `stratify_by` parameters.\n",
    "\n",
    "Using `stratify_by=[\"pulse_soc\"]` ensures that every batch created from the feature set contains an equal distribution of pulse states of charge (SOC).   \n",
    "\n",
    "Attaching the sampler to `TrainingPhase` is done with a key:value entry in a dictionary. \n",
    "The key must be the name of FeatureSet or FeatureSubset (e.g., 'ChargePulseFeatures' or 'ChargePulseFeatures.train')"
   ]
  },
  {
   "cell_type": "code",
   "execution_count": 6,
   "id": "6dd4a462",
   "metadata": {},
   "outputs": [],
   "source": [
    "from modularml.core import TrainingPhase\n",
    "\n",
    "phase1 = TrainingPhase(\n",
    "\tlabel=\"train_phase\",\n",
    "\tlosses=[mse_loss, ],\n",
    "\tsamplers={'ChargePulseFeatures.train': sampler},\n",
    "\tbatch_size=32,\n",
    "\tn_epochs=50\n",
    ")"
   ]
  },
  {
   "cell_type": "markdown",
   "id": "3c480e26",
   "metadata": {},
   "source": [
    "We now have a fully-configured TrainingPhase, that utilizes the 'train' subset of the 'ChargePulseFeatures' FeatureSet.\n",
    "An MSE loss is applied to the single MLP regressor ModelStage."
   ]
  },
  {
   "cell_type": "markdown",
   "id": "11a69350",
   "metadata": {},
   "source": [
    "## Create and Run the Experiment\n",
    "\n",
    "The `Experiment` container manages both training and evaluation phases. \n",
    "It takes a `ModelGraph` and one or more phases (training or evaluation).\n",
    "\n",
    "Calling `.run()` will automatically execute all training phases and manage phase-level loss computation, sampling, and optimizer stepping."
   ]
  },
  {
   "cell_type": "code",
   "execution_count": null,
   "id": "dfa7cf95",
   "metadata": {},
   "outputs": [
    {
     "name": "stdout",
     "output_type": "stream",
     "text": [
      "Executing TrainingPhase: train_phase\n",
      "  > Training\n",
      "    - Epoch 0: Avg. sample loss = 4687.2832\n",
      "    - Epoch 10: Avg. sample loss = 71.0091\n",
      "    - Epoch 20: Avg. sample loss = 64.6208\n"
     ]
    }
   ],
   "source": [
    "# Initialize and run the experiment\n",
    "from modularml.core import Experiment\n",
    "\n",
    "exp = Experiment(\n",
    "    graph=mg,\n",
    "    phases=[phase1, ],\n",
    ")\n",
    "\n",
    "# Calling run() will execute all phases in Experiment.phases\n",
    "# These are run in the order they are provided\n",
    "exp.run()"
   ]
  },
  {
   "cell_type": "markdown",
   "id": "3d786237",
   "metadata": {},
   "source": [
    "While we could pass multiple stage right to Experiment during construction, it is sometimes useful during the exploratory stage to run one stage at a time and then evaluate the model.\n",
    "\n",
    "This can be achieved by using the `run_training_phase` or `run_evaluation_phase` methods, which both take in a single phase to execute."
   ]
  },
  {
   "cell_type": "markdown",
   "id": "85af3574",
   "metadata": {},
   "source": [
    "# Define and Run Evaluation Phases\n",
    "\n",
    "Evaluation of the ModelGraph utilizes a separate `EvaluationPhase` class, which provides functionality catered explciity to ModelGraph evaluation and not training. \n",
    "\n",
    "`EvaluationPhase` utilizes a very similar constructor (minus `n_epochs`), and the `losses` argument is optional.\n",
    "\n",
    "Here, we define three `EvaluationPhase` objects for the train, val, and test splits of our 'ChargePulseFeatures' FeatureSet. \n",
    "Each uses the same MSE loss but samples from different subsets of the dataset during each EvaluationPhase."
   ]
  },
  {
   "cell_type": "code",
   "execution_count": null,
   "id": "476a058d",
   "metadata": {},
   "outputs": [],
   "source": [
    "from modularml.core import EvaluationPhase\n",
    "\n",
    "# Define evaluation phases\n",
    "eval_train_phase = EvaluationPhase(\n",
    "    label='eval_train_set',\n",
    "    samplers={\"ChargePulseFeatures.train\": FeatureSampler(shuffle=True, seed=13)},\n",
    "    batch_size=64,\n",
    "    losses=[mse_loss]\n",
    ")\n",
    "eval_val_phase = EvaluationPhase(\n",
    "    label='eval_val_set',\n",
    "    samplers={\"ChargePulseFeatures.val\": FeatureSampler(shuffle=True, seed=13)},\n",
    "    batch_size=64,\n",
    "    losses=[mse_loss]\n",
    ")\n",
    "eval_test_phase = EvaluationPhase(\n",
    "    label='eval_test_set',\n",
    "    samplers={\"ChargePulseFeatures.test\": FeatureSampler(shuffle=True, seed=13)},\n",
    "    batch_size=64,\n",
    "    losses=[mse_loss]\n",
    ")"
   ]
  },
  {
   "cell_type": "markdown",
   "id": "38e21e77",
   "metadata": {},
   "source": [
    "The `run_evaluation_phase` method return the ModelGraph outputs keyed by the ModelStage and traced to each originating sample unique identifier (`'sample_uuid'`).\n",
    "\n",
    "The outputs are returned as a single dict of lists, but it is easier to visualize as a dataframe. \n",
    "Each row corresponds to a unique Sample drawn from the `ChargePulseFeatures.train` subset, its corresponding role, and each ModelStage's output of that sample."
   ]
  },
  {
   "cell_type": "code",
   "execution_count": null,
   "id": "3ecb5947",
   "metadata": {},
   "outputs": [],
   "source": [
    "import pandas as pd\n",
    "\n",
    "output = exp.run_evaluation_phase(eval_train_phase)\n",
    "pd.DataFrame(output)"
   ]
  },
  {
   "cell_type": "markdown",
   "id": "f0c63c27",
   "metadata": {},
   "source": [
    "With this evaluation output, we can trace back each ModelStage's output to the actual feature and target data using `FeatureSet.get_samples_with_uuid`"
   ]
  },
  {
   "cell_type": "code",
   "execution_count": null,
   "id": "9e153f4e",
   "metadata": {},
   "outputs": [],
   "source": [
    "# Get all samples from charge_samples with matching sample_uuid\n",
    "temp = charge_samples.get_samples_with_uuid(output['sample_uuid'])\n",
    "\n",
    "# Get the feature data from these samples\n",
    "features = temp.get_all_features(format=mml.DataFormat.NUMPY)\n",
    "print(\"Features:\", features.shape)\n",
    "\n",
    "# Get the target data from these samples\n",
    "targets = temp.get_all_targets(format=mml.DataFormat.NUMPY)\n",
    "print(\"Targets: \", targets.shape)"
   ]
  },
  {
   "cell_type": "markdown",
   "id": "5081136c",
   "metadata": {},
   "source": [
    "With a regression task like ours, it is useful to construct parity plots for all three feature subsets (train, val, test). \n",
    "\n",
    "Access to these model outputs via the `run_evaluation_phase` output make this very simple.\n"
   ]
  },
  {
   "cell_type": "code",
   "execution_count": null,
   "id": "7ca21bc9",
   "metadata": {},
   "outputs": [],
   "source": [
    "from modularml.utils.data_format import convert_to_format\n",
    "\n",
    "# Get the model prediction and convert to numpy array\n",
    "predictions = convert_to_format(output['Regressor.output'], format=mml.DataFormat.NUMPY)\n",
    "\n",
    "# Reshape the true and predicted values to a flat array for plotting\n",
    "predictions = predictions.reshape(-1)\n",
    "true = targets.reshape(-1)"
   ]
  },
  {
   "cell_type": "code",
   "execution_count": null,
   "id": "f98f0eaf",
   "metadata": {},
   "outputs": [],
   "source": [
    "import matplotlib.pyplot as plt\n",
    "\n",
    "plt.figure(figsize=(8,3))\n",
    "plt.scatter(true, predictions)\n",
    "plt.show()"
   ]
  },
  {
   "cell_type": "markdown",
   "id": "d905b3f6",
   "metadata": {},
   "source": [
    "Let's make a function so we can reuse this plotting logic for each evaluation run."
   ]
  },
  {
   "cell_type": "code",
   "execution_count": null,
   "id": "a56d2cc4",
   "metadata": {},
   "outputs": [],
   "source": [
    "def plot_parity(pred, true, fig, ax):\n",
    "    ax.scatter(true, pred)\n",
    "    ax.axline((0,0), (1,1), color='black', linestyle='--')\n",
    "    return fig, ax\n",
    "\n",
    "eval_phases = [('train', eval_train_phase), ('val', eval_val_phase), ('test', eval_test_phase)]\n",
    "fig, axes = plt.subplots(figsize=(8,2), ncols=3, sharex=True, sharey=True)\n",
    "for i, (subset, phase) in enumerate(eval_phases):\n",
    "    \n",
    "    output = exp.run_evaluation_phase(phase)\n",
    "    temp = charge_samples.get_samples_with_uuid(output['sample_uuid'])\n",
    "    true = temp.get_all_targets(format=mml.DataFormat.NUMPY).reshape(-1)\n",
    "    pred = convert_to_format(output['Regressor.output'], format=mml.DataFormat.NUMPY).reshape(-1)\n",
    "    \n",
    "    fig, axes[i] = plot_parity(pred, true, fig=fig, ax=axes[i])\n",
    "    axes[i].set_xlabel(\"Predicted SOH (%)\") \n",
    "    axes[i].set_title(subset) \n",
    "    axes[i].grid()\n",
    "\n",
    "axes[0].set_ylabel(\"True SOH (%)\") \n",
    "axes[0].set_xlim(30, 105)\n",
    "axes[0].set_ylim(30, 105)\n",
    "plt.show()"
   ]
  },
  {
   "cell_type": "markdown",
   "id": "49adf6ed",
   "metadata": {},
   "source": [
    "Not too bad for a simple model, but there's definitely room to improve. \n",
    "In the next notebook, we will explore the just how qucikly will can iterate over experiment configurations with ModularML."
   ]
  },
  {
   "cell_type": "markdown",
   "id": "fc5b6fa7",
   "metadata": {},
   "source": [
    "## Summary\n",
    "\n",
    "This notebook demonstrated how to:\n",
    "\n",
    "- Build a ModelGraph with PyTorch backends\n",
    "- Define training and evaluation phases\n",
    "- Manage end-to-end execution with the Experiment container\n",
    "- Visualize model performance\n",
    "\n",
    "\n",
    "This concludes the **03_training_and_evaluation.ipynb** notebook.\n",
    "\n",
    "The next tutorial explain `Experiment` tracking and rapid iteration: *...coming soon*"
   ]
  }
 ],
 "metadata": {
  "kernelspec": {
   "display_name": "envModularML",
   "language": "python",
   "name": "python3"
  },
  "language_info": {
   "codemirror_mode": {
    "name": "ipython",
    "version": 3
   },
   "file_extension": ".py",
   "mimetype": "text/x-python",
   "name": "python",
   "nbconvert_exporter": "python",
   "pygments_lexer": "ipython3",
   "version": "3.10.13"
  }
 },
 "nbformat": 4,
 "nbformat_minor": 5
}
