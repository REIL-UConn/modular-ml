{
 "cells": [
  {
   "cell_type": "markdown",
   "id": "d7fa9f84",
   "metadata": {},
   "source": [
    "---\n",
    "# 03_training_and_evaluation.ipynb\n",
    "---"
   ]
  },
  {
   "cell_type": "markdown",
   "id": "91952ca8",
   "metadata": {},
   "source": [
    "This notebook provides a complete end-to-end example of how to train and evaluate a model using the `ModularML` framework. It demonstrates how to:\n",
    "\n",
    "1. Define a `ModelGraph` with one or more trainable model stages\n",
    "2. Wrap training logic in a `TrainingPhase`\n",
    "3. Run training using the `Experiment` container\n",
    "4. Evaluate the trained model using `EvaluationPhase`\n",
    "5. Visualize predictions against ground truth\n",
    "\n",
    "We use a simple example in which a fully connected MLP regressor is trained to estimate target values from pulse charge features of a battery dataset."
   ]
  },
  {
   "cell_type": "markdown",
   "id": "86108012",
   "metadata": {},
   "source": [
    "We will be utilizing the FeatureSet and ModelStages created in the prior two notebooks. \n",
    "If you haven't already, please go through the following examples:\n",
    "* [01_featureset_basics.ipynb](./01_featureset_basics.ipynb)\n",
    "* [02_modelgraph_basics.ipynb](./02_modelgraph_basics.ipynb)\n",
    "\n",
    "\n",
    "Let's reload the pre-processed FeatureSet and ModelStages.\n"
   ]
  },
  {
   "cell_type": "code",
   "execution_count": 1,
   "id": "700b9407",
   "metadata": {},
   "outputs": [
    {
     "data": {
      "text/plain": [
       "FeatureSet(label='ChargePulseFeatures', n_samples=12024)"
      ]
     },
     "execution_count": 1,
     "metadata": {},
     "output_type": "execute_result"
    }
   ],
   "source": [
    "from pathlib import Path\n",
    "\n",
    "import modularml as mml\n",
    "from modularml.core import FeatureSet, ModelGraph, ModelStage, Optimizer\n",
    "from modularml.models.torch import SequentialCNN, SequentialMLP\n",
    "\n",
    "FILE_FEATURE_SET = Path(\"downloaded_data/charge_samples.joblib\")\n",
    "charge_samples = FeatureSet.load(FILE_FEATURE_SET)\n",
    "charge_samples"
   ]
  },
  {
   "cell_type": "markdown",
   "id": "2feb5b98",
   "metadata": {},
   "source": [
    "We will start this example with a simple 3-layer MLP model.\n",
    "It pulls features from the 'ChargePulseFeatures' FeatureSet.\n",
    "\n",
    "We can confirm the target output size with `FeatureSet.target_shape`"
   ]
  },
  {
   "cell_type": "code",
   "execution_count": 2,
   "id": "2a4256a0",
   "metadata": {},
   "outputs": [
    {
     "name": "stdout",
     "output_type": "stream",
     "text": [
      "(1, 1)\n"
     ]
    }
   ],
   "source": [
    "print(charge_samples.target_shape)\n",
    "\n",
    "ms_regressor = ModelStage(\n",
    "    model=SequentialMLP(output_shape=(1, 1), n_layers=3, hidden_dim=32),\n",
    "    label=\"Regressor\",\n",
    "    upstream_node=charge_samples,\n",
    "    optimizer=Optimizer(\"adam\", lr=1e-3),\n",
    ")"
   ]
  },
  {
   "cell_type": "markdown",
   "id": "bfd36fb2",
   "metadata": {},
   "source": [
    "The ModelGraph is constructed via a list of ModelStages and FeatureSets.\n",
    "\n",
    "Calling `build_all` ensure all ModelStages instantiate their underlying NN components, and infer any missing input/output shapes. "
   ]
  },
  {
   "cell_type": "code",
   "execution_count": 3,
   "id": "2207c695",
   "metadata": {},
   "outputs": [
    {
     "name": "stdout",
     "output_type": "stream",
     "text": [
      "Built node `Regressor` with shapes: (1, 101) -> (1, 1)\n"
     ]
    },
    {
     "data": {
      "text/markdown": [
       "```mermaid\n",
       "flowchart LR\n",
       "\tn0 e0@-->|\"(1, 101)\"| n1\n",
       "\n",
       "\tn0@{ label: \"FeatureSet<br>'ChargePulseFeatures'\", shape: rect }\n",
       "\tn1@{ label: \"ModelStage<br>'Regressor'\", shape: rect }\n",
       "\tn0:::FeatureSet\n",
       "\tn1:::ModelStage\n",
       "\tclassDef FeatureSet stroke-width: 2px, stroke-dasharray: 0, stroke: #AA00FF, fill: #E1BEE7, color:#000000;\n",
       "\tclassDef ModelStage stroke-width: 2px, stroke-dasharray: 0, stroke: #2962FF, fill: #BBDEFB, color:#000000;\n",
       "\n",
       "\tclassDef DashMediumAnimation stroke-dasharray: 9,5, stroke-dashoffset: 100, animation: dash 3s linear infinite;\n",
       "\tclass e0 DashMediumAnimation\n",
       "```"
      ],
      "text/plain": [
       "<IPython.core.display.Markdown object>"
      ]
     },
     "metadata": {},
     "output_type": "display_data"
    }
   ],
   "source": [
    "mg = ModelGraph(nodes=[charge_samples, ms_regressor])\n",
    "mg.build_all()\n",
    "mg.visualize()"
   ]
  },
  {
   "cell_type": "markdown",
   "id": "2783675c",
   "metadata": {},
   "source": [
    "Now that the `ModelGraph` is built, we are ready to move on to the core ModularML training logic and central `Experiment` container."
   ]
  },
  {
   "cell_type": "markdown",
   "id": "ea98a297",
   "metadata": {},
   "source": [
    "## Define a Training Phase\n",
    "\n",
    "Training in ModularML is handled through a `TrainingPhase`. It is a declarative container that defines how to train the ModelGraph.\n",
    "\n",
    "If has the following initiallization arguments:\n",
    "* `label`: a name (str) to assigned to this training phase for logging (e.g., \"pretrain_encoder\").\n",
    "* `losses`: a list of `AppliedLoss` objects\n",
    "* `samplers`: a mapping of `FeatureSampler`s to FeatureSets in ModelGraph.\n",
    "* `batch_size`: the batch size to use across all batches in a single training phase.\n",
    "* `n_epochs`: the number of training epochs.\n",
    "\n"
   ]
  },
  {
   "cell_type": "markdown",
   "id": "bc9531ec",
   "metadata": {},
   "source": [
    "Let's start with the `AppliedLoss` class.\n",
    "It defines the loss function and how it should be applied to the ModelGraph.\n",
    "\n",
    "For example, let's assume we are using a TripletSampler, which produces 'anchor', 'positive', and 'negative' sample pairs.\n",
    "We would have a corresponding TripletLoss that takes in the ModelStage outputs for each of these sample roles. \n",
    "\n",
    "``` python\n",
    "def triplet_loss(anchor, positive, negative): ...\n",
    "```\n",
    "\n",
    "To apply this triplet_loss to a ModelStage's output (assume it's called 'encoder'), we would define an AppliedLoss where the `inputs` argument maps the loss function keyword arguments to the available samples and roles.\n",
    "\n",
    "\n",
    "``` python\n",
    "ap = AppliedLoss(\n",
    "\tlabel='my_triplet_loss',\n",
    "\tloss=Loss(loss_function=triplet_loss),\n",
    "\tinputs={\n",
    "\t\t'anchor': \"ChargePulseFeatures.features.anchor\",\n",
    "\t\t'positive': \"ChargePulseFeatures.features.negative\",\n",
    "\t\t'negative': \"ChargePulseFeatures.features.positive\",\n",
    "\t}\n",
    ")\n",
    "```\n",
    "\n",
    "The `inputs` key-value following the following schema: \n",
    "* the key must be a keyword argument of the loss_function. If the loss function only accepts positional arguments, keys can take the form of integers or string equivalents (e.g., `{\"0\": ..., }` or `{0: ..., }`)\n",
    "* the value is a period (.)-parsed string with the following pattern: `'node.attribute.role'`:\n",
    "  * `node` is the label of a FeatureSet or ModelStage contained in ModelGraph\n",
    "  * `attribute` is one of the following: ['features',  'targets', 'output']\n",
    "    * 'features' and 'targets' only apply if `node` is a FeatureSet\n",
    "    * 'output' is used if `node` is a ModelStage\n",
    "  * `role` is a sample key defined by the FeatureSampler used. E.g, a TripletSampler creates 'anchor', 'positive', and 'negative' roles. A simple FeatureSampler has only a 'default' role. If `role` is ommited (e.g., `'node.attribute'`), then the role is assumed to be 'default'."
   ]
  },
  {
   "cell_type": "markdown",
   "id": "e0c06add",
   "metadata": {},
   "source": [
    "For our first example, we only have a single MLP ModelStage where our task is estimating battery state-of-health. \n",
    "\n",
    "We will start with only a single mean-squared-error loss function applied to the regressor outputs.\n",
    "Common loss functions are easily accessible using the `name` and `backend` attribute of the `Loss` class.\n",
    "See the documentation for a more detailed description on available losses."
   ]
  },
  {
   "cell_type": "code",
   "execution_count": 4,
   "id": "b5a7c853",
   "metadata": {},
   "outputs": [],
   "source": [
    "from modularml.core import AppliedLoss, Loss\n",
    "\n",
    "mse_loss = AppliedLoss(\n",
    "    label=\"MyAppliedLoss\",\n",
    "    loss=Loss(name=\"mse\", backend=mml.Backend.TORCH),\n",
    "    all_inputs={  # The PyTorch MSELoss only accept positional arguments\n",
    "        \"0\": \"ChargePulseFeatures.targets\",\n",
    "        \"1\": \"Regressor.output\",\n",
    "    },\n",
    ")"
   ]
  },
  {
   "cell_type": "markdown",
   "id": "0c336156",
   "metadata": {},
   "source": [
    "The next set of `TrainingPhase` attributes define the sampling configuration.\n",
    "\n",
    "Since we only have one FeatureSet (`\"ChargePulseFeatures\"`) in our ModelGraph, we only need to create one FeatureSampler.\n",
    "Our `mse_loss` only need a single sample role (\"default\"), so we can stick with just a simple FeatureSampler."
   ]
  },
  {
   "cell_type": "code",
   "execution_count": 5,
   "id": "6e013c37",
   "metadata": {},
   "outputs": [],
   "source": [
    "from modularml.core import FeatureSampler\n",
    "\n",
    "sampler = FeatureSampler(\n",
    "    shuffle=True,\n",
    "    stratify_by=[\"pulse_soc\"],\n",
    "    seed=13,\n",
    ")"
   ]
  },
  {
   "cell_type": "markdown",
   "id": "16434b48",
   "metadata": {},
   "source": [
    "The base `FeatureSampler` support grouping and stratification via the `group_by` and `stratify_by` parameters.\n",
    "\n",
    "Using `stratify_by=[\"pulse_soc\"]` ensures that every batch created from the feature set contains an equal distribution of pulse states of charge (SOC).   \n",
    "\n",
    "Attaching the sampler to `TrainingPhase` is done with a key:value entry in a dictionary. \n",
    "The key must be the name of FeatureSet or FeatureSubset (e.g., 'ChargePulseFeatures' or 'ChargePulseFeatures.train')"
   ]
  },
  {
   "cell_type": "code",
   "execution_count": 6,
   "id": "6dd4a462",
   "metadata": {},
   "outputs": [],
   "source": [
    "from modularml.core import TrainingPhase\n",
    "\n",
    "phase1 = TrainingPhase(\n",
    "    label=\"train_phase\",\n",
    "    losses=[mse_loss],\n",
    "    samplers={\"ChargePulseFeatures.train\": sampler},\n",
    "    batch_size=32,\n",
    "    n_epochs=50,\n",
    ")"
   ]
  },
  {
   "cell_type": "markdown",
   "id": "3c480e26",
   "metadata": {},
   "source": [
    "We now have a fully-configured TrainingPhase, that utilizes the 'train' subset of the 'ChargePulseFeatures' FeatureSet.\n",
    "An MSE loss is applied to the single MLP regressor ModelStage."
   ]
  },
  {
   "cell_type": "markdown",
   "id": "11a69350",
   "metadata": {},
   "source": [
    "## Create and Run the Experiment\n",
    "\n",
    "The `Experiment` container manages both training and evaluation phases. \n",
    "It takes a `ModelGraph` and one or more phases (training or evaluation).\n",
    "\n",
    "Calling `.run()` will automatically execute all training phases and manage phase-level loss computation, sampling, and optimizer stepping."
   ]
  },
  {
   "cell_type": "code",
   "execution_count": 7,
   "id": "dfa7cf95",
   "metadata": {},
   "outputs": [
    {
     "name": "stdout",
     "output_type": "stream",
     "text": [
      "Executing TrainingPhase: train_phase\n",
      "  > Training\n",
      "    - Epoch 0: Avg. sample loss = 3295.8158 [Opt=3295.8158, Non-Opt=0.0000]\n",
      "    - Epoch 10: Avg. sample loss = 56.1804 [Opt=56.1804, Non-Opt=0.0000]\n",
      "    - Epoch 20: Avg. sample loss = 40.6186 [Opt=40.6186, Non-Opt=0.0000]\n",
      "    - Epoch 30: Avg. sample loss = 29.7755 [Opt=29.7755, Non-Opt=0.0000]\n",
      "    - Epoch 40: Avg. sample loss = 22.9178 [Opt=22.9178, Non-Opt=0.0000]\n"
     ]
    }
   ],
   "source": [
    "# Initialize and run the experiment\n",
    "from modularml.core import Experiment\n",
    "\n",
    "exp = Experiment(\n",
    "    graph=mg,\n",
    "    phases=[phase1],\n",
    ")\n",
    "\n",
    "# Calling run() will execute all phases in Experiment.phases\n",
    "# These are run in the order they are provided\n",
    "exp.run()"
   ]
  },
  {
   "cell_type": "markdown",
   "id": "3d786237",
   "metadata": {},
   "source": [
    "While we could pass multiple stage right to Experiment during construction, it is sometimes useful during the exploratory stage to run one stage at a time and then evaluate the model.\n",
    "\n",
    "This can be achieved by using the `run_training_phase` or `run_evaluation_phase` methods, which both take in a single phase to execute."
   ]
  },
  {
   "cell_type": "markdown",
   "id": "85af3574",
   "metadata": {},
   "source": [
    "# Define and Run Evaluation Phases\n",
    "\n",
    "Evaluation of the ModelGraph utilizes a separate `EvaluationPhase` class, which provides functionality catered explciity to ModelGraph evaluation and not training. \n",
    "\n",
    "`EvaluationPhase` utilizes a very similar constructor (minus `n_epochs`), and the `losses` argument is optional.\n",
    "\n",
    "Here, we define three `EvaluationPhase` objects for the train, val, and test splits of our 'ChargePulseFeatures' FeatureSet. \n",
    "Each uses the same MSE loss but samples from different subsets of the dataset during each EvaluationPhase."
   ]
  },
  {
   "cell_type": "code",
   "execution_count": 8,
   "id": "476a058d",
   "metadata": {},
   "outputs": [],
   "source": [
    "from modularml.core import EvaluationPhase\n",
    "\n",
    "# Define evaluation phases\n",
    "eval_train_phase = EvaluationPhase(\n",
    "    label=\"eval_train_set\",\n",
    "    samplers={\"ChargePulseFeatures.train\": FeatureSampler(shuffle=True, seed=13)},\n",
    "    batch_size=64,\n",
    "    losses=[mse_loss],\n",
    ")\n",
    "eval_val_phase = EvaluationPhase(\n",
    "    label=\"eval_val_set\",\n",
    "    samplers={\"ChargePulseFeatures.val\": FeatureSampler(shuffle=True, seed=13)},\n",
    "    batch_size=64,\n",
    "    losses=[mse_loss],\n",
    ")\n",
    "eval_test_phase = EvaluationPhase(\n",
    "    label=\"eval_test_set\",\n",
    "    samplers={\"ChargePulseFeatures.test\": FeatureSampler(shuffle=True, seed=13)},\n",
    "    batch_size=64,\n",
    "    losses=[mse_loss],\n",
    ")"
   ]
  },
  {
   "cell_type": "markdown",
   "id": "38e21e77",
   "metadata": {},
   "source": [
    "The `run_evaluation_phase` method return the ModelGraph outputs keyed by the ModelStage and traced to each originating sample unique identifier (`'sample_uuid'`).\n",
    "\n",
    "The outputs are returned as a Pandas Dataframe.\n",
    "Each row corresponds to a unique Sample drawn from the `ChargePulseFeatures.train` subset, its corresponding role, and each ModelStage's output of that sample."
   ]
  },
  {
   "cell_type": "code",
   "execution_count": 9,
   "id": "3ecb5947",
   "metadata": {},
   "outputs": [
    {
     "name": "stdout",
     "output_type": "stream",
     "text": [
      "Executing EvaluationPhase: eval_train_set\n",
      "  > Evaluating\n",
      "    - Avg. sample loss = 19.1839 [Opt=0.0000, Non-Opt=19.1839]\n"
     ]
    },
    {
     "data": {
      "application/vnd.microsoft.datawrangler.viewer.v0+json": {
       "columns": [
        {
         "name": "index",
         "rawType": "int64",
         "type": "integer"
        },
        {
         "name": "sample_uuid",
         "rawType": "object",
         "type": "string"
        },
        {
         "name": "role",
         "rawType": "object",
         "type": "string"
        },
        {
         "name": "Regressor.output",
         "rawType": "object",
         "type": "unknown"
        }
       ],
       "ref": "a3065533-369d-4d0b-85ad-da0b4bb9cedb",
       "rows": [
        [
         "0",
         "00046f6c-6751-41e2-aef0-2657956c7c7e",
         "default",
         "[[80.88880157470703]]"
        ],
        [
         "1",
         "001e3d97-2a3f-440c-a504-0ddcf3aa3117",
         "default",
         "[[68.13864135742188]]"
        ],
        [
         "2",
         "002f30c2-ec20-4886-8c6a-175aa286b443",
         "default",
         "[[87.2550048828125]]"
        ],
        [
         "3",
         "00356311-6c13-4caf-b09b-f4a9dd83b434",
         "default",
         "[[79.30506134033203]]"
        ],
        [
         "4",
         "0042a8d5-9a25-43eb-8df3-21167d2768ee",
         "default",
         "[[84.47753143310547]]"
        ],
        [
         "5",
         "00990b7b-46ee-4115-b66c-ec99e15752a6",
         "default",
         "[[71.42497253417969]]"
        ],
        [
         "6",
         "009af661-5258-4d45-98a6-a18baf65a4f1",
         "default",
         "[[97.5400390625]]"
        ],
        [
         "7",
         "009bb9bc-3749-4216-87e6-9608558ee025",
         "default",
         "[[89.06521606445312]]"
        ],
        [
         "8",
         "00a3118e-10d2-4d4b-971a-271a1a59c270",
         "default",
         "[[75.53984069824219]]"
        ],
        [
         "9",
         "00adeee5-b9c3-4995-a685-1af93e100ccf",
         "default",
         "[[69.39891052246094]]"
        ],
        [
         "10",
         "00afc68f-c8e6-468f-84e4-c6b8369904ac",
         "default",
         "[[74.564208984375]]"
        ],
        [
         "11",
         "00b14bd8-842a-4533-b645-b9a7fa6cda2a",
         "default",
         "[[87.1565170288086]]"
        ],
        [
         "12",
         "00b1a92c-8912-4e64-82d8-f61eef658793",
         "default",
         "[[86.1032485961914]]"
        ],
        [
         "13",
         "00c01338-b2cc-45d0-a33a-60605c1fb31b",
         "default",
         "[[76.33292388916016]]"
        ],
        [
         "14",
         "00d78cd6-f7ac-4586-8851-2bbaafe810a5",
         "default",
         "[[88.99180603027344]]"
        ],
        [
         "15",
         "00e2b82c-fa46-4223-ba9f-c079fd98224c",
         "default",
         "[[69.82550048828125]]"
        ],
        [
         "16",
         "00f50549-c60b-47cd-818d-6238cee323ad",
         "default",
         "[[84.78504180908203]]"
        ],
        [
         "17",
         "00fbf77f-0f1f-49d2-9b0e-982428a81749",
         "default",
         "[[67.43717193603516]]"
        ],
        [
         "18",
         "00fd09c8-f42a-4578-a326-2defe9eb1992",
         "default",
         "[[87.58050537109375]]"
        ],
        [
         "19",
         "00ff1a0a-8f87-4334-97e3-b9ffc0cbddf5",
         "default",
         "[[91.39342498779297]]"
        ],
        [
         "20",
         "01132b10-91e0-479a-8f4d-4639805d0cec",
         "default",
         "[[50.977203369140625]]"
        ],
        [
         "21",
         "011763d1-7450-4724-863e-efdf59c1e24c",
         "default",
         "[[66.53599548339844]]"
        ],
        [
         "22",
         "011acd4d-ef7f-4756-8c06-5bc7a28d497b",
         "default",
         "[[69.45258331298828]]"
        ],
        [
         "23",
         "012718a3-7530-4b76-95c6-a4bc5af3db7e",
         "default",
         "[[63.72373962402344]]"
        ],
        [
         "24",
         "01333c4b-731c-479c-a4f0-36c1c9599963",
         "default",
         "[[78.99808502197266]]"
        ],
        [
         "25",
         "01514e41-c9f2-481a-9ba7-3ea48ea6af39",
         "default",
         "[[88.50007629394531]]"
        ],
        [
         "26",
         "01540b06-f49e-4839-93f6-6f1862b0f497",
         "default",
         "[[68.57767486572266]]"
        ],
        [
         "27",
         "01587119-05bc-4b01-8d54-0f594b5c4a13",
         "default",
         "[[86.68852996826172]]"
        ],
        [
         "28",
         "015c84b0-8833-4167-9a7d-e4af3777d169",
         "default",
         "[[84.08660888671875]]"
        ],
        [
         "29",
         "0173547f-2306-49ec-8310-18cd966ea1aa",
         "default",
         "[[78.94979858398438]]"
        ],
        [
         "30",
         "0182879b-0a19-4d17-8f2d-cff1b770f4dc",
         "default",
         "[[94.38477325439453]]"
        ],
        [
         "31",
         "01887220-8069-4fab-9e78-3c8f503624e7",
         "default",
         "[[86.7720718383789]]"
        ],
        [
         "32",
         "01890b4b-9b83-4cc0-a7c4-a4004f7887eb",
         "default",
         "[[86.75738525390625]]"
        ],
        [
         "33",
         "01a10374-6787-4306-aaf7-4b0ef152d637",
         "default",
         "[[82.10296630859375]]"
        ],
        [
         "34",
         "01c52448-2983-434f-a686-556db3622fe3",
         "default",
         "[[75.3022689819336]]"
        ],
        [
         "35",
         "01d2666f-b67d-4b93-a866-7555cbe2d7db",
         "default",
         "[[68.14541625976562]]"
        ],
        [
         "36",
         "01d33e25-9d3c-44bb-84ea-5fdc79c6a557",
         "default",
         "[[85.6254653930664]]"
        ],
        [
         "37",
         "01d62236-22c5-4778-bb95-36abd0e97066",
         "default",
         "[[101.03275299072266]]"
        ],
        [
         "38",
         "01fef7be-fcf1-49f1-ba65-abd7fc7ff912",
         "default",
         "[[75.7036361694336]]"
        ],
        [
         "39",
         "02025634-e593-4f6b-98d3-12231c2bdd4a",
         "default",
         "[[100.69557189941406]]"
        ],
        [
         "40",
         "021039e0-166c-4f08-8277-cb673a470833",
         "default",
         "[[88.2927474975586]]"
        ],
        [
         "41",
         "02186dc4-2447-47c4-b973-0351c215d693",
         "default",
         "[[92.57340240478516]]"
        ],
        [
         "42",
         "0222d7a5-312b-4216-8e14-f0a0d9608e3c",
         "default",
         "[[93.12591552734375]]"
        ],
        [
         "43",
         "0241654b-4aff-4383-9302-276aba965bd7",
         "default",
         "[[85.64328002929688]]"
        ],
        [
         "44",
         "02495015-891c-4237-8704-ed0a58166709",
         "default",
         "[[74.32588195800781]]"
        ],
        [
         "45",
         "024fc045-30a3-4a86-a705-fc1bc8de5481",
         "default",
         "[[82.82814025878906]]"
        ],
        [
         "46",
         "0262d966-db35-4c3a-aefd-1a8aead5452e",
         "default",
         "[[73.9422378540039]]"
        ],
        [
         "47",
         "026e49a6-88bc-4200-aecd-53379c33fdb2",
         "default",
         "[[76.83552551269531]]"
        ],
        [
         "48",
         "028a3e42-7ac8-49fa-9bf4-6a49e7b995bb",
         "default",
         "[[84.6041488647461]]"
        ],
        [
         "49",
         "028f926d-8918-4817-a17a-4734563b792d",
         "default",
         "[[85.80335235595703]]"
        ]
       ],
       "shape": {
        "columns": 3,
        "rows": 5607
       }
      },
      "text/html": [
       "<div>\n",
       "<style scoped>\n",
       "    .dataframe tbody tr th:only-of-type {\n",
       "        vertical-align: middle;\n",
       "    }\n",
       "\n",
       "    .dataframe tbody tr th {\n",
       "        vertical-align: top;\n",
       "    }\n",
       "\n",
       "    .dataframe thead th {\n",
       "        text-align: right;\n",
       "    }\n",
       "</style>\n",
       "<table border=\"1\" class=\"dataframe\">\n",
       "  <thead>\n",
       "    <tr style=\"text-align: right;\">\n",
       "      <th>stage</th>\n",
       "      <th>sample_uuid</th>\n",
       "      <th>role</th>\n",
       "      <th>Regressor.output</th>\n",
       "    </tr>\n",
       "  </thead>\n",
       "  <tbody>\n",
       "    <tr>\n",
       "      <th>0</th>\n",
       "      <td>00046f6c-6751-41e2-aef0-2657956c7c7e</td>\n",
       "      <td>default</td>\n",
       "      <td>[[80.88880157470703]]</td>\n",
       "    </tr>\n",
       "    <tr>\n",
       "      <th>1</th>\n",
       "      <td>001e3d97-2a3f-440c-a504-0ddcf3aa3117</td>\n",
       "      <td>default</td>\n",
       "      <td>[[68.13864135742188]]</td>\n",
       "    </tr>\n",
       "    <tr>\n",
       "      <th>2</th>\n",
       "      <td>002f30c2-ec20-4886-8c6a-175aa286b443</td>\n",
       "      <td>default</td>\n",
       "      <td>[[87.2550048828125]]</td>\n",
       "    </tr>\n",
       "    <tr>\n",
       "      <th>3</th>\n",
       "      <td>00356311-6c13-4caf-b09b-f4a9dd83b434</td>\n",
       "      <td>default</td>\n",
       "      <td>[[79.30506134033203]]</td>\n",
       "    </tr>\n",
       "    <tr>\n",
       "      <th>4</th>\n",
       "      <td>0042a8d5-9a25-43eb-8df3-21167d2768ee</td>\n",
       "      <td>default</td>\n",
       "      <td>[[84.47753143310547]]</td>\n",
       "    </tr>\n",
       "    <tr>\n",
       "      <th>...</th>\n",
       "      <td>...</td>\n",
       "      <td>...</td>\n",
       "      <td>...</td>\n",
       "    </tr>\n",
       "    <tr>\n",
       "      <th>5602</th>\n",
       "      <td>ffae8744-200d-4d47-834f-18114cef5f84</td>\n",
       "      <td>default</td>\n",
       "      <td>[[89.86813354492188]]</td>\n",
       "    </tr>\n",
       "    <tr>\n",
       "      <th>5603</th>\n",
       "      <td>ffbcae28-14ce-49f4-b2c5-7303e340e79e</td>\n",
       "      <td>default</td>\n",
       "      <td>[[84.51510620117188]]</td>\n",
       "    </tr>\n",
       "    <tr>\n",
       "      <th>5604</th>\n",
       "      <td>ffcb213d-01f3-4f66-b740-13b5942c0a2c</td>\n",
       "      <td>default</td>\n",
       "      <td>[[76.90301513671875]]</td>\n",
       "    </tr>\n",
       "    <tr>\n",
       "      <th>5605</th>\n",
       "      <td>ffd6431d-8448-4a38-8d0b-46ad1951aaee</td>\n",
       "      <td>default</td>\n",
       "      <td>[[92.81061553955078]]</td>\n",
       "    </tr>\n",
       "    <tr>\n",
       "      <th>5606</th>\n",
       "      <td>ffed90b8-ec96-4029-b3d4-f33515917706</td>\n",
       "      <td>default</td>\n",
       "      <td>[[66.49907684326172]]</td>\n",
       "    </tr>\n",
       "  </tbody>\n",
       "</table>\n",
       "<p>5607 rows × 3 columns</p>\n",
       "</div>"
      ],
      "text/plain": [
       "stage                           sample_uuid     role       Regressor.output\n",
       "0      00046f6c-6751-41e2-aef0-2657956c7c7e  default  [[80.88880157470703]]\n",
       "1      001e3d97-2a3f-440c-a504-0ddcf3aa3117  default  [[68.13864135742188]]\n",
       "2      002f30c2-ec20-4886-8c6a-175aa286b443  default   [[87.2550048828125]]\n",
       "3      00356311-6c13-4caf-b09b-f4a9dd83b434  default  [[79.30506134033203]]\n",
       "4      0042a8d5-9a25-43eb-8df3-21167d2768ee  default  [[84.47753143310547]]\n",
       "...                                     ...      ...                    ...\n",
       "5602   ffae8744-200d-4d47-834f-18114cef5f84  default  [[89.86813354492188]]\n",
       "5603   ffbcae28-14ce-49f4-b2c5-7303e340e79e  default  [[84.51510620117188]]\n",
       "5604   ffcb213d-01f3-4f66-b740-13b5942c0a2c  default  [[76.90301513671875]]\n",
       "5605   ffd6431d-8448-4a38-8d0b-46ad1951aaee  default  [[92.81061553955078]]\n",
       "5606   ffed90b8-ec96-4029-b3d4-f33515917706  default  [[66.49907684326172]]\n",
       "\n",
       "[5607 rows x 3 columns]"
      ]
     },
     "execution_count": 9,
     "metadata": {},
     "output_type": "execute_result"
    }
   ],
   "source": [
    "import pandas as pd\n",
    "\n",
    "output = exp.run_evaluation_phase(eval_train_phase)\n",
    "output"
   ]
  },
  {
   "cell_type": "markdown",
   "id": "f0c63c27",
   "metadata": {},
   "source": [
    "With this evaluation output, we can trace back each ModelStage's output to the actual feature and target data using `FeatureSet.get_samples_with_uuid`"
   ]
  },
  {
   "cell_type": "code",
   "execution_count": 11,
   "id": "9e153f4e",
   "metadata": {},
   "outputs": [
    {
     "name": "stdout",
     "output_type": "stream",
     "text": [
      "Features: (5607, 1, 101)\n",
      "Targets:  (5607, 1, 1)\n"
     ]
    }
   ],
   "source": [
    "# Get all samples from charge_samples with matching sample_uuid\n",
    "temp = charge_samples.get_samples_with_uuid(output[\"sample_uuid\"].values)\n",
    "\n",
    "# Get the feature data from these samples\n",
    "features = temp.get_all_features(fmt=mml.DataFormat.NUMPY)\n",
    "print(\"Features:\", features.shape)\n",
    "\n",
    "# Get the target data from these samples\n",
    "targets = temp.get_all_targets(fmt=mml.DataFormat.NUMPY)\n",
    "print(\"Targets: \", targets.shape)"
   ]
  },
  {
   "cell_type": "markdown",
   "id": "5081136c",
   "metadata": {},
   "source": [
    "With a regression task like ours, it is useful to construct parity plots for all three feature subsets (train, val, test). \n",
    "\n",
    "Access to these model outputs via the `run_evaluation_phase` output make this very simple.\n"
   ]
  },
  {
   "cell_type": "code",
   "execution_count": 12,
   "id": "7ca21bc9",
   "metadata": {},
   "outputs": [],
   "source": [
    "from modularml.utils.data_format import convert_to_format\n",
    "\n",
    "# Get the model prediction and convert to numpy array\n",
    "predictions = convert_to_format(output[\"Regressor.output\"], fmt=mml.DataFormat.NUMPY)\n",
    "\n",
    "# Reshape the true and predicted values to a flat array for plotting\n",
    "predictions = predictions.reshape(-1)\n",
    "true = targets.reshape(-1)"
   ]
  },
  {
   "cell_type": "code",
   "execution_count": 13,
   "id": "f98f0eaf",
   "metadata": {},
   "outputs": [
    {
     "data": {
      "image/png": "[encoded data removed]",
      "text/plain": [
       "<Figure size 800x300 with 1 Axes>"
      ]
     },
     "metadata": {},
     "output_type": "display_data"
    }
   ],
   "source": [
    "import matplotlib.pyplot as plt\n",
    "\n",
    "plt.figure(figsize=(8,3))\n",
    "plt.scatter(true, predictions)\n",
    "plt.show()"
   ]
  },
  {
   "cell_type": "markdown",
   "id": "d905b3f6",
   "metadata": {},
   "source": [
    "Let's make a function so we can reuse this plotting logic for each evaluation run."
   ]
  },
  {
   "cell_type": "code",
   "execution_count": 15,
   "id": "a56d2cc4",
   "metadata": {},
   "outputs": [
    {
     "name": "stdout",
     "output_type": "stream",
     "text": [
      "Executing EvaluationPhase: eval_train_set\n",
      "  > Evaluating\n",
      "    - Avg. sample loss = 19.1839 [Opt=0.0000, Non-Opt=19.1839]\n",
      "Executing EvaluationPhase: eval_val_set\n",
      "  > Evaluating\n",
      "    - Avg. sample loss = 14.9256 [Opt=0.0000, Non-Opt=14.9256]\n",
      "Executing EvaluationPhase: eval_test_set\n",
      "  > Evaluating\n",
      "    - Avg. sample loss = 31.2661 [Opt=0.0000, Non-Opt=31.2661]\n"
     ]
    },
    {
     "data": {
      "image/png": "[encoded data removed]",
      "text/plain": [
       "<Figure size 800x200 with 3 Axes>"
      ]
     },
     "metadata": {},
     "output_type": "display_data"
    }
   ],
   "source": [
    "def plot_parity(pred, true, fig, ax):\n",
    "    ax.scatter(true, pred)\n",
    "    ax.axline((0, 0), (1, 1), color=\"black\", linestyle=\"--\")\n",
    "    return fig, ax\n",
    "\n",
    "\n",
    "eval_phases = [(\"train\", eval_train_phase), (\"val\", eval_val_phase), (\"test\", eval_test_phase)]\n",
    "fig, axes = plt.subplots(figsize=(8, 2), ncols=3, sharex=True, sharey=True)\n",
    "for i, (subset, phase) in enumerate(eval_phases):\n",
    "    output = exp.run_evaluation_phase(phase)\n",
    "    temp = charge_samples.get_samples_with_uuid(output[\"sample_uuid\"])\n",
    "    true = temp.get_all_targets(fmt=mml.DataFormat.NUMPY).reshape(-1)\n",
    "    pred = convert_to_format(output[\"Regressor.output\"], fmt=mml.DataFormat.NUMPY).reshape(-1)\n",
    "\n",
    "    fig, axes[i] = plot_parity(pred, true, fig=fig, ax=axes[i])\n",
    "    axes[i].set_xlabel(\"Predicted SOH (%)\")\n",
    "    axes[i].set_title(subset)\n",
    "    axes[i].grid()\n",
    "\n",
    "axes[0].set_ylabel(\"True SOH (%)\")\n",
    "axes[0].set_xlim(30, 105)\n",
    "axes[0].set_ylim(30, 105)\n",
    "plt.show()"
   ]
  },
  {
   "cell_type": "markdown",
   "id": "49adf6ed",
   "metadata": {},
   "source": [
    "Not too bad for a simple model, but there's definitely room to improve. \n",
    "In the next notebook, we will explore the just how quickly will can iterate over experiment configurations with ModularML."
   ]
  },
  {
   "cell_type": "markdown",
   "id": "fc5b6fa7",
   "metadata": {},
   "source": [
    "## Summary\n",
    "\n",
    "This notebook demonstrated how to:\n",
    "\n",
    "- Build a ModelGraph with PyTorch backends\n",
    "- Define training and evaluation phases\n",
    "- Manage end-to-end execution with the Experiment container\n",
    "- Visualize model performance\n",
    "\n",
    "\n",
    "This concludes the **03_training_and_evaluation.ipynb** notebook.\n",
    "\n",
    "The next tutorial explain `Experiment` tracking and rapid iteration: *...coming soon*"
   ]
  }
 ],
 "metadata": {
  "kernelspec": {
   "display_name": "envModularML",
   "language": "python",
   "name": "python3"
  },
  "language_info": {
   "codemirror_mode": {
    "name": "ipython",
    "version": 3
   },
   "file_extension": ".py",
   "mimetype": "text/x-python",
   "name": "python",
   "nbconvert_exporter": "python",
   "pygments_lexer": "ipython3",
   "version": "3.10.13"
  }
 },
 "nbformat": 4,
 "nbformat_minor": 5
}
