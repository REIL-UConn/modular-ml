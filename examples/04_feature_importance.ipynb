{
 "cells": [
  {
   "cell_type": "markdown",
   "id": "3772275a",
   "metadata": {},
   "source": [
    "---\n",
    "# 04_featureset_importance.ipynb\n",
    "---"
   ]
  },
  {
   "cell_type": "markdown",
   "id": "3c42e4df",
   "metadata": {},
   "source": [
    "## Introduction: What is Feature Importance Analysis?\n",
    "\n",
    "**Feature importance analysis** helps reveal how different inputs affect model predictions.\n",
    "\n",
    "It is useful for:\n",
    "\n",
    "* **Interpretability** – seeing which variables drive outcomes.\n",
    "* **Diagnostics** – identifying redundant or weak features that may add noise.\n",
    "* **Domain insights** – revealing which physical, statistical, or operational descriptors are most relevant for the task\n",
    "\n",
    "We focus on two main approaches:\n",
    "\n",
    "* **Model-based**: importance derived from model internals (e.g., tree importances, coefficients).\n",
    "* **Perturbation-based**: measuring prediction changes when features are shuffled or masked.\n",
    "\n",
    "In this notebook, we’ll show how to:\n",
    "\n",
    "* Extract statistical features from battery voltage data.\n",
    "* Evaluate and visualize feature importance to understand which features contribute most.\n"
   ]
  },
  {
   "cell_type": "markdown",
   "id": "8611971a",
   "metadata": {},
   "source": [
    "## Step 1: Loading Example Data\n",
    "\n",
    "We begin by downloading an example dataset from our battery health estimation paper: “Fine-tuning for rapid capacity estimation of lithium-ion batteries” ([10.1016/j.ensm.2025.104425](https://doi.org/10.1016/j.ensm.2025.104425)).\n",
    "This dataset contains time-series voltage responses to 100-second DC pulses collected across the life of several lithium-ion cells.\n",
    "More information on the dataset and usage can be found on the following GitHub repository: [REIL-UConn/fine-tuning-for-rapid-soh-estimation]{https://github.com/REIL-UConn/fine-tuning-for-rapid-soh-estimation.git}.\n",
    "\n",
    "\n",
    "We'll download and load the data from GitHub. \n",
    "The file is a `.pkl` (pickled Python object) containing a dictionary of key-value arrays."
   ]
  },
  {
   "cell_type": "code",
   "execution_count": null,
   "id": "669a024e",
   "metadata": {},
   "outputs": [
    {
     "name": "stdout",
     "output_type": "stream",
     "text": [
      "Downloading data...\n",
      "Download complete.\n",
      "Available keys: ['cell_id', 'group_id', 'rpt', 'num_cycles', 'soc', 'soc - coulomb', 'pulse_type', 'voltage', 'q_dchg', 'soh', 'dcir_chg_10', 'dcir_dchg_10', 'dcir_chg_20', 'dcir_dchg_20', 'dcir_chg_30', 'dcir_dchg_30', 'dcir_chg_40', 'dcir_dchg_40', 'dcir_chg_50', 'dcir_dchg_50', 'dcir_chg_60', 'dcir_dchg_60', 'dcir_chg_70', 'dcir_dchg_70', 'dcir_chg_80', 'dcir_dchg_80', 'dcir_chg_90', 'dcir_dchg_90']\n",
      "Total number of samples: 24048\n"
     ]
    }
   ],
   "source": [
    "import pickle\n",
    "import urllib.request\n",
    "import warnings\n",
    "from pathlib import Path\n",
    "import modularml as mml\n",
    "\n",
    "DATA_URL = \"https://raw.githubusercontent.com/REIL-UConn/fine-tuning-for-rapid-soh-estimation/main/processed_data/UConn-ILCC-NMC/data_slowpulse_1.pkl\"\n",
    "DATA_DIR = Path(\"downloaded_data\")\n",
    "DATA_PATH = DATA_DIR / \"data_slowpulse_1.pkl\"\n",
    "DATA_DIR.mkdir(exist_ok=True, parents=True)\n",
    "\n",
    "if not DATA_PATH.exists():\n",
    "    print(\"Downloading data...\")\n",
    "    urllib.request.urlretrieve(url=DATA_URL, filename=DATA_PATH)\n",
    "    print(\"Download complete.\")\n",
    "else:\n",
    "    print(\"Data already downloaded.\")\n",
    "\n",
    "with warnings.catch_warnings():\n",
    "    warnings.simplefilter(\"ignore\", category=DeprecationWarning)\n",
    "    data = pickle.load(Path.open(DATA_PATH, \"rb\"))\n",
    "\n",
    "print(f\"Available keys: {list(data.keys())}\")\n",
    "print(f\"Total number of samples: {len(data[next(iter(data.keys()))])}\")"
   ]
  },
  {
   "cell_type": "markdown",
   "id": "65a72afc",
   "metadata": {},
   "source": [
    "## Step 2: Understanding the Data Format\n",
    "\n",
    "Our data is structured as a dictionary, where each key corresponds to a signal or property:\n",
    "* `voltage`: the time-series voltage response during a 100-second pulse (shape: [n_samples, 101])\n",
    "* `soh`: state-of-health, a float between ~0.5 and 1.0\n",
    "* `cell_id`, `group_id`, `pulse_type`, `soc`: metadata about the sample\n"
   ]
  },
  {
   "cell_type": "markdown",
   "id": "bfce70c3",
   "metadata": {},
   "source": [
    "## Step 3: Creating a raw FeatureSet\n",
    "\n",
    "To create a `FeatureSet`, we use the `from_dict()` constructor. \n",
    "We must assign a `label`, which uniquely identifies this `FeatureSet` within the broader modeling pipeline (e.g., when connecting to model stages)."
   ]
  },
  {
   "cell_type": "code",
   "execution_count": 4,
   "id": "33cd6f32",
   "metadata": {},
   "outputs": [
    {
     "data": {
      "text/plain": [
       "FeatureSet(label='PulseFeaturesRaw', n_samples=24048)"
      ]
     },
     "execution_count": 4,
     "metadata": {},
     "output_type": "execute_result"
    }
   ],
   "source": [
    "from modularml.core import FeatureSet\n",
    "\n",
    "fs_raw = FeatureSet.from_dict(\n",
    "    label=\"PulseFeaturesRaw\",\n",
    "    data={\n",
    "        \"voltage\": data[\"voltage\"],\n",
    "        \"soh\": data[\"soh\"],\n",
    "        \"cell_id\": data[\"cell_id\"],\n",
    "        \"group_id\": data[\"group_id\"],\n",
    "        \"pulse_type\": data[\"pulse_type\"],\n",
    "        \"pulse_soc\": data[\"soc\"],\n",
    "    },\n",
    "    feature_keys=\"voltage\",\n",
    "    target_keys=\"soh\",\n",
    "    tag_keys=[\"cell_id\", \"group_id\", \"pulse_type\", \"pulse_soc\"],\n",
    ")\n",
    "fs_raw\n"
   ]
  },
  {
   "cell_type": "markdown",
   "id": "05cd3631",
   "metadata": {},
   "source": [
    "## Step 3: Derive statistical features from voltage and create a new FeatureSet"
   ]
  },
  {
   "cell_type": "markdown",
   "id": "0afbd3a5",
   "metadata": {},
   "source": [
    "Helper function: stats on a 1D array-like"
   ]
  },
  {
   "cell_type": "code",
   "execution_count": 6,
   "id": "f684ae3f",
   "metadata": {},
   "outputs": [],
   "source": [
    "import numpy as np\n",
    "import pandas as pd\n",
    "\n",
    "def voltage_stats_1d(x):\n",
    "    arr = np.asarray(x, dtype=float).ravel()\n",
    "    arr = arr[~np.isnan(arr)]\n",
    "    if arr.size == 0:\n",
    "        return dict(v_min=np.nan, v_max=np.nan, v_mean=np.nan, v_var=np.nan, v_skew=np.nan, v_kurt=np.nan)\n",
    "    v_min  = float(np.min(arr))\n",
    "    v_max  = float(np.max(arr))\n",
    "    v_mean = float(np.mean(arr))\n",
    "    v_var  = float(np.var(arr, ddof=1)) if arr.size > 1 else 0.0\n",
    "    try:\n",
    "        from scipy.stats import skew, kurtosis\n",
    "        v_skew = float(skew(arr, bias=False)) if arr.size > 2 else 0.0\n",
    "        v_kurt = float(kurtosis(arr, fisher=True, bias=False)) if arr.size > 3 else 0.0\n",
    "    except Exception:\n",
    "        s = pd.Series(arr)\n",
    "        v_skew = float(s.skew()) if arr.size > 2 else 0.0\n",
    "        v_kurt = float(s.kurt()) if arr.size > 3 else 0.0\n",
    "    return dict(v_min=v_min, v_max=v_max, v_mean=v_mean, v_var=v_var, v_skew=v_skew, v_kurt=v_kurt)\n"
   ]
  },
  {
   "cell_type": "markdown",
   "id": "d5fa6b2d",
   "metadata": {},
   "source": [
    "Grab the voltage sequences from fs_raw"
   ]
  },
  {
   "cell_type": "code",
   "execution_count": null,
   "id": "c698d1c7",
   "metadata": {},
   "outputs": [],
   "source": [
    "try:\n",
    "    voltages = fs_raw.data[\"voltage\"]       \n",
    "except Exception:\n",
    "    voltages = data[\"voltage\"]                      "
   ]
  },
  {
   "cell_type": "markdown",
   "id": "26849eae",
   "metadata": {},
   "source": [
    "Compute stats row-wise"
   ]
  },
  {
   "cell_type": "code",
   "execution_count": 11,
   "id": "3ae08ab9",
   "metadata": {},
   "outputs": [],
   "source": [
    "stats_list = [voltage_stats_1d(v) for v in voltages]\n",
    "stats_df = pd.DataFrame(stats_list)"
   ]
  },
  {
   "cell_type": "markdown",
   "id": "bba30b6b",
   "metadata": {},
   "source": [
    "Build the stats FeatureSet for modeling"
   ]
  },
  {
   "cell_type": "code",
   "execution_count": null,
   "id": "504b4b66",
   "metadata": {},
   "outputs": [
    {
     "data": {
      "text/plain": [
       "FeatureSet(label='PulseFeaturesStats', n_samples=24048)"
      ]
     },
     "execution_count": 32,
     "metadata": {},
     "output_type": "execute_result"
    }
   ],
   "source": [
    "base_df = pd.DataFrame({\n",
    "        \"soh\":        data[\"soh\"],\n",
    "        \"cell_id\":    data[\"cell_id\"],\n",
    "        \"group_id\":   data[\"group_id\"],\n",
    "        \"pulse_type\": data[\"pulse_type\"],\n",
    "        \"pulse_soc\":  data[\"soc\"],\n",
    "    })\n",
    "df_stats = pd.concat([base_df.reset_index(drop=True), stats_df.reset_index(drop=True)], axis=1)\n",
    "\n",
    "\n",
    "def to_np_str_series(s):\n",
    "    # elementwise cast guarantees each item is np.str_ \n",
    "    return np.array([np.str_(x) for x in s.values], dtype=np.str_)\n",
    "\n",
    "feat_cols = [\"v_min\",\"v_max\",\"v_mean\",\"v_var\",\"v_skew\",\"v_kurt\"]\n",
    "target    = \"soh\"\n",
    "\n",
    "data_dict = {\n",
    "    # features\n",
    "    \"v_min\":  df_stats[\"v_min\"].to_numpy(),\n",
    "    \"v_max\":  df_stats[\"v_max\"].to_numpy(),\n",
    "    \"v_mean\": df_stats[\"v_mean\"].to_numpy(),\n",
    "    \"v_var\":  df_stats[\"v_var\"].to_numpy(),\n",
    "    \"v_skew\": df_stats[\"v_skew\"].to_numpy(),\n",
    "    \"v_kurt\": df_stats[\"v_kurt\"].to_numpy(),\n",
    "    # target\n",
    "    \"soh\":    df_stats[\"soh\"].to_numpy(),\n",
    "    # tags — force NumPy string scalars where needed\n",
    "    \"cell_id\":    to_np_str_series(df_stats[\"cell_id\"]),\n",
    "    \"group_id\":   df_stats[\"group_id\"].to_numpy(),        \n",
    "    \"pulse_type\": to_np_str_series(df_stats[\"pulse_type\"]),\n",
    "    \"pulse_soc\":  df_stats[\"pulse_soc\"].to_numpy(),\n",
    "}\n",
    "\n",
    "fs_stats = FeatureSet.from_dict(\n",
    "    label=\"PulseFeaturesStats\",\n",
    "    data=data_dict,\n",
    "    feature_keys=feat_cols,\n",
    "    target_keys=target,\n",
    "    tag_keys=[\"cell_id\",\"group_id\",\"pulse_type\",\"pulse_soc\"],\n",
    ")\n",
    "fs_stats"
   ]
  },
  {
   "cell_type": "markdown",
   "id": "9ca151a6",
   "metadata": {},
   "source": [
    "#### Filtering charge samples\n",
    "\n",
    "The `.filter` method takes keyword arguments, where keys can correspond to any attribute of the samples' tags, features, or targets."
   ]
  },
  {
   "cell_type": "code",
   "execution_count": 18,
   "id": "da7d6952",
   "metadata": {},
   "outputs": [
    {
     "name": "stdout",
     "output_type": "stream",
     "text": [
      "FeatureSet(label='filtered', n_samples=12024)\n",
      "Filtered to 12024 charge-only samples.\n"
     ]
    }
   ],
   "source": [
    "charge_samples = fs_stats.filter(pulse_type=\"chg\")\n",
    "print(charge_samples)\n",
    "print(f\"Filtered to {len(charge_samples.samples)} charge-only samples.\")"
   ]
  },
  {
   "cell_type": "markdown",
   "id": "27050472",
   "metadata": {},
   "source": [
    "Note that the `.filter` method returns a new `FeatureSet` containing copies of the filtered samples.\n",
    "\n",
    "By default, it is returned with a label of `'filtered'`, but we can set a new label with `.set_label`.\n"
   ]
  },
  {
   "cell_type": "code",
   "execution_count": 19,
   "id": "b609296b",
   "metadata": {},
   "outputs": [
    {
     "name": "stdout",
     "output_type": "stream",
     "text": [
      "FeatureSet(label='ChargePulseFeatures', n_samples=12024)\n"
     ]
    }
   ],
   "source": [
    "charge_samples.label = \"ChargePulseFeatures\"\n",
    "print(charge_samples)"
   ]
  },
  {
   "cell_type": "markdown",
   "id": "b5dab074",
   "metadata": {},
   "source": [
    "## Step 4: Running feature importance\n",
    "Using both model-based (Random Forest) and perturbation-based (permutation) importance\n"
   ]
  },
  {
   "cell_type": "markdown",
   "id": "dfc72e72",
   "metadata": {},
   "source": [
    "1) Setup: imports and reproducible config"
   ]
  },
  {
   "cell_type": "code",
   "execution_count": 20,
   "id": "663d0904",
   "metadata": {},
   "outputs": [],
   "source": [
    "import matplotlib.pyplot as plt\n",
    "from sklearn.ensemble import RandomForestRegressor\n",
    "from sklearn.model_selection import GroupShuffleSplit\n",
    "from sklearn.inspection import permutation_importance\n",
    "\n",
    "RANDOM_STATE = 42\n",
    "feat_cols = [\"v_min\",\"v_max\",\"v_mean\",\"v_var\",\"v_skew\",\"v_kurt\"]\n",
    "target_col = \"soh\"\n",
    "group_tag  = \"group_id\"  \n"
   ]
  },
  {
   "cell_type": "markdown",
   "id": "b1cd79f2",
   "metadata": {},
   "source": [
    "2) Build X, y, and group labels from FeatureSet"
   ]
  },
  {
   "cell_type": "code",
   "execution_count": null,
   "id": "ce092a6b",
   "metadata": {},
   "outputs": [
    {
     "name": "stdout",
     "output_type": "stream",
     "text": [
      "(12024, 6) (12024,) (12024,)\n"
     ]
    }
   ],
   "source": [
    "def _scalar(x):\n",
    "    arr = np.asarray(x).ravel()\n",
    "    return float(arr[0]) if arr.size else np.nan\n",
    "\n",
    "def arrays_from_featureset(fs, feature_keys, target_key, group_key):\n",
    "    X_list, y_list, g_list = [], [], []\n",
    "    for s in fs.samples:\n",
    "        # build one feature row\n",
    "        row = []\n",
    "        bad = False\n",
    "        for k in feature_keys:\n",
    "            v = _scalar(s.features[k].value)\n",
    "            if not np.isfinite(v):\n",
    "                bad = True\n",
    "                break\n",
    "            row.append(v)\n",
    "        if bad:\n",
    "            continue\n",
    "\n",
    "        # target\n",
    "        yv = _scalar(s.targets[target_key].value)\n",
    "        if not np.isfinite(yv):\n",
    "            continue\n",
    "\n",
    "        # group label \n",
    "        gv = s.tags[group_key].value\n",
    "        g_list.append(gv)\n",
    "        y_list.append(yv)\n",
    "        X_list.append(row)\n",
    "\n",
    "    X = np.asarray(X_list, dtype=float)\n",
    "    y = np.asarray(y_list, dtype=float)\n",
    "    groups = np.asarray(g_list)\n",
    "    return X, y, groups\n",
    "\n",
    "# Build arrays from the filtered FeatureSet\n",
    "X, y, groups = arrays_from_featureset(charge_samples, feat_cols, target_col, group_tag)\n",
    "print(X.shape, y.shape, groups.shape)\n"
   ]
  },
  {
   "cell_type": "markdown",
   "id": "6f9af99a",
   "metadata": {},
   "source": [
    "3) Group-aware train/test split"
   ]
  },
  {
   "cell_type": "code",
   "execution_count": 24,
   "id": "7329af50",
   "metadata": {},
   "outputs": [
    {
     "name": "stdout",
     "output_type": "stream",
     "text": [
      "(9234, 6) (9234,)\n",
      "(2790, 6) (2790,)\n"
     ]
    }
   ],
   "source": [
    "gss = GroupShuffleSplit(n_splits=1, test_size=0.2, random_state=RANDOM_STATE)\n",
    "(train_idx, test_idx), = gss.split(X, groups=groups)\n",
    "\n",
    "X_tr, X_te = X[train_idx], X[test_idx]\n",
    "y_tr, y_te = y[train_idx], y[test_idx]\n",
    "\n",
    "print(X_tr.shape, y_tr.shape)\n",
    "print(X_te.shape, y_te.shape)\n",
    "\n"
   ]
  },
  {
   "cell_type": "markdown",
   "id": "26a39387",
   "metadata": {},
   "source": [
    "4) Fit baseline Random Forest regressor"
   ]
  },
  {
   "cell_type": "code",
   "execution_count": 25,
   "id": "accd1e1d",
   "metadata": {},
   "outputs": [
    {
     "name": "stdout",
     "output_type": "stream",
     "text": [
      "Test R^2: 0.961\n"
     ]
    }
   ],
   "source": [
    "rf = RandomForestRegressor(\n",
    "    n_estimators=400,\n",
    "    random_state=RANDOM_STATE,\n",
    "    n_jobs=-1\n",
    ")\n",
    "rf.fit(X_tr, y_tr)\n",
    "print(f\"Test R^2: {rf.score(X_te, y_te):.3f}\")\n"
   ]
  },
  {
   "cell_type": "markdown",
   "id": "1be929ac",
   "metadata": {},
   "source": [
    "5) Compute feature importances (model-based + permutation)"
   ]
  },
  {
   "cell_type": "markdown",
   "id": "a915ddd5",
   "metadata": {},
   "source": [
    "**Model-based importance** computed from the average reduction in MSE each feature provides across all splits and trees. Larger values mean the feature is frequently used in informative splits (often near the top of trees)."
   ]
  },
  {
   "cell_type": "code",
   "execution_count": 26,
   "id": "d7ccc2af",
   "metadata": {},
   "outputs": [],
   "source": [
    "# (a) Model-based\n",
    "imp_model = rf.feature_importances_\n",
    "order = np.argsort(imp_model)[::-1]\n",
    "feat_order = [feat_cols[i] for i in order]\n",
    "imp_model_sorted = imp_model[order]"
   ]
  },
  {
   "cell_type": "markdown",
   "id": "f68d3f1a",
   "metadata": {},
   "source": [
    "**Permutation-based importance** measures how much test performance drops when we randomly shuffle one feature at a time (breaking its relationship to the target). The bar height is the mean drop across repeats; the error bars show variability across shuffles."
   ]
  },
  {
   "cell_type": "code",
   "execution_count": 27,
   "id": "31db3e8b",
   "metadata": {},
   "outputs": [],
   "source": [
    "# (b) Permutation-based (on held-out test)\n",
    "perm = permutation_importance(\n",
    "    rf, X_te, y_te,\n",
    "    n_repeats=20,\n",
    "    random_state=RANDOM_STATE,\n",
    "    n_jobs=-1\n",
    ")\n",
    "imp_perm_mean = perm.importances_mean[order]\n",
    "imp_perm_std  = perm.importances_std[order]"
   ]
  },
  {
   "cell_type": "markdown",
   "id": "744103cb",
   "metadata": {},
   "source": [
    "6) Plot feature importance"
   ]
  },
  {
   "cell_type": "code",
   "execution_count": 31,
   "id": "57dffc0a",
   "metadata": {},
   "outputs": [
    {
     "data": {
      "image/png": "[encoded data removed]",
      "text/plain": [
       "<Figure size 600x400 with 1 Axes>"
      ]
     },
     "metadata": {},
     "output_type": "display_data"
    }
   ],
   "source": [
    "# Model-based \n",
    "plt.figure(figsize=(6,4))\n",
    "plt.bar(range(len(feat_order)), imp_model_sorted)\n",
    "plt.xticks(range(len(feat_order)), feat_order, rotation=45, ha=\"right\")\n",
    "plt.ylabel(\"Importance\")\n",
    "plt.title(\"Feature Importance (Model-based)\")\n",
    "plt.tight_layout()\n",
    "plt.show()"
   ]
  },
  {
   "cell_type": "code",
   "execution_count": null,
   "id": "a4cc5e5d",
   "metadata": {},
   "outputs": [
    {
     "data": {
      "image/png": "[encoded data removed]",
      "text/plain": [
       "<Figure size 600x400 with 1 Axes>"
      ]
     },
     "metadata": {},
     "output_type": "display_data"
    }
   ],
   "source": [
    "# Permutation-based\n",
    "plt.figure(figsize=(6,4))\n",
    "x = np.arange(len(feat_order))\n",
    "plt.bar(x, imp_perm_mean)\n",
    "plt.errorbar(x, imp_perm_mean, yerr=imp_perm_std, fmt=\"none\", capsize=4, ecolor=\"black\", zorder=3)\n",
    "plt.xticks(x, feat_order, rotation=45, ha=\"right\")\n",
    "plt.ylabel(\"Importance (mean)\")\n",
    "plt.title(\"Feature Importance (Permutation on Test)\")\n",
    "plt.tight_layout()\n",
    "plt.show()"
   ]
  }
 ],
 "metadata": {
  "kernelspec": {
   "display_name": ".venv",
   "language": "python",
   "name": "python3"
  },
  "language_info": {
   "codemirror_mode": {
    "name": "ipython",
    "version": 3
   },
   "file_extension": ".py",
   "mimetype": "text/x-python",
   "name": "python",
   "nbconvert_exporter": "python",
   "pygments_lexer": "ipython3",
   "version": "3.11.7"
  }
 },
 "nbformat": 4,
 "nbformat_minor": 5
}
